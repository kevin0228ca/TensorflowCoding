{
 "metadata": {
  "language_info": {
   "codemirror_mode": {
    "name": "ipython",
    "version": 3
   },
   "file_extension": ".py",
   "mimetype": "text/x-python",
   "name": "python",
   "nbconvert_exporter": "python",
   "pygments_lexer": "ipython3",
   "version": "3.8.5-final"
  },
  "orig_nbformat": 2,
  "kernelspec": {
   "name": "python_defaultSpec_1600794842309",
   "display_name": "Python 3.8.5 64-bit"
  }
 },
 "nbformat": 4,
 "nbformat_minor": 2,
 "cells": [
  {
   "cell_type": "code",
   "execution_count": 1,
   "metadata": {
    "tags": []
   },
   "outputs": [
    {
     "output_type": "stream",
     "name": "stdout",
     "text": "2.3.0\n"
    }
   ],
   "source": [
    "import os\n",
    "\n",
    "import tensorflow as tf\n",
    "from tensorflow import keras\n",
    "\n",
    "print(tf.version.VERSION)"
   ]
  },
  {
   "cell_type": "markdown",
   "metadata": {},
   "source": [
    "# Get dataset"
   ]
  },
  {
   "cell_type": "code",
   "execution_count": 2,
   "metadata": {},
   "outputs": [],
   "source": [
    "# use MNIST as save load example, use only 1000 samples for efficiency\n",
    "(train_images, train_labels), (test_images, test_labels) = tf.keras.datasets.mnist.load_data()\n",
    "\n",
    "train_labels = train_labels[:1000]\n",
    "test_labels = test_labels[:1000]\n",
    "\n",
    "train_images = train_images[:1000].reshape(-1, 28 * 28) / 255.0 # convert to 1D and normalize\n",
    "test_images = test_images[:1000].reshape(-1, 28 * 28) / 255.0"
   ]
  },
  {
   "cell_type": "markdown",
   "metadata": {},
   "source": [
    "# Create model"
   ]
  },
  {
   "cell_type": "code",
   "execution_count": 3,
   "metadata": {
    "tags": []
   },
   "outputs": [
    {
     "output_type": "stream",
     "name": "stdout",
     "text": "Model: \"sequential\"\n_________________________________________________________________\nLayer (type)                 Output Shape              Param #   \n=================================================================\ndense (Dense)                (None, 512)               401920    \n_________________________________________________________________\ndropout (Dropout)            (None, 512)               0         \n_________________________________________________________________\ndense_1 (Dense)              (None, 10)                5130      \n=================================================================\nTotal params: 407,050\nTrainable params: 407,050\nNon-trainable params: 0\n_________________________________________________________________\n"
    }
   ],
   "source": [
    "def create_model():\n",
    "    model = tf.keras.Sequential([\n",
    "        keras.layers.Dense(512, activation='relu', input_shape=(784,)),\n",
    "        keras.layers.Dropout(0.2),\n",
    "        keras.layers.Dense(10)\n",
    "    ])\n",
    "\n",
    "    model.compile(optimizer='adam', loss=tf.losses.SparseCategoricalCrossentropy(from_logits=True), metrics=[tf.metrics.SparseCategoricalAccuracy()])\n",
    "\n",
    "    return model\n",
    "\n",
    "model = create_model()\n",
    "model.summary()"
   ]
  },
  {
   "cell_type": "markdown",
   "metadata": {},
   "source": [
    "# Save weights"
   ]
  },
  {
   "cell_type": "code",
   "execution_count": 4,
   "metadata": {
    "tags": []
   },
   "outputs": [
    {
     "output_type": "stream",
     "name": "stdout",
     "text": "Epoch 1/10\n28/32 [=========================>....] - ETA: 0s - loss: 1.2143 - sparse_categorical_accuracy: 0.6496\nEpoch 00001: saving model to training_1\\cp.ckpt\n32/32 [==============================] - 0s 11ms/step - loss: 1.1608 - sparse_categorical_accuracy: 0.6660 - val_loss: 0.7124 - val_sparse_categorical_accuracy: 0.7770\nEpoch 2/10\n28/32 [=========================>....] - ETA: 0s - loss: 0.4218 - sparse_categorical_accuracy: 0.8873\nEpoch 00002: saving model to training_1\\cp.ckpt\n32/32 [==============================] - 0s 8ms/step - loss: 0.4150 - sparse_categorical_accuracy: 0.8900 - val_loss: 0.5249 - val_sparse_categorical_accuracy: 0.8430\nEpoch 3/10\n28/32 [=========================>....] - ETA: 0s - loss: 0.2886 - sparse_categorical_accuracy: 0.9241\nEpoch 00003: saving model to training_1\\cp.ckpt\n32/32 [==============================] - 0s 8ms/step - loss: 0.2832 - sparse_categorical_accuracy: 0.9260 - val_loss: 0.4798 - val_sparse_categorical_accuracy: 0.8530\nEpoch 4/10\n29/32 [==========================>...] - ETA: 0s - loss: 0.2109 - sparse_categorical_accuracy: 0.9494\nEpoch 00004: saving model to training_1\\cp.ckpt\n32/32 [==============================] - 0s 8ms/step - loss: 0.2091 - sparse_categorical_accuracy: 0.9490 - val_loss: 0.4586 - val_sparse_categorical_accuracy: 0.8540\nEpoch 5/10\n27/32 [========================>.....] - ETA: 0s - loss: 0.1544 - sparse_categorical_accuracy: 0.9653\nEpoch 00005: saving model to training_1\\cp.ckpt\n32/32 [==============================] - 0s 8ms/step - loss: 0.1566 - sparse_categorical_accuracy: 0.9660 - val_loss: 0.4453 - val_sparse_categorical_accuracy: 0.8540\nEpoch 6/10\n28/32 [=========================>....] - ETA: 0s - loss: 0.1232 - sparse_categorical_accuracy: 0.9766\nEpoch 00006: saving model to training_1\\cp.ckpt\n32/32 [==============================] - 0s 10ms/step - loss: 0.1187 - sparse_categorical_accuracy: 0.9780 - val_loss: 0.4083 - val_sparse_categorical_accuracy: 0.8670\nEpoch 7/10\n28/32 [=========================>....] - ETA: 0s - loss: 0.0903 - sparse_categorical_accuracy: 0.9888\nEpoch 00007: saving model to training_1\\cp.ckpt\n32/32 [==============================] - 0s 8ms/step - loss: 0.0890 - sparse_categorical_accuracy: 0.9900 - val_loss: 0.4480 - val_sparse_categorical_accuracy: 0.8570\nEpoch 8/10\n28/32 [=========================>....] - ETA: 0s - loss: 0.0650 - sparse_categorical_accuracy: 0.9922\nEpoch 00008: saving model to training_1\\cp.ckpt\n32/32 [==============================] - 0s 8ms/step - loss: 0.0661 - sparse_categorical_accuracy: 0.9910 - val_loss: 0.3931 - val_sparse_categorical_accuracy: 0.8720\nEpoch 9/10\n28/32 [=========================>....] - ETA: 0s - loss: 0.0458 - sparse_categorical_accuracy: 1.0000\nEpoch 00009: saving model to training_1\\cp.ckpt\n32/32 [==============================] - 0s 8ms/step - loss: 0.0457 - sparse_categorical_accuracy: 0.9990 - val_loss: 0.4216 - val_sparse_categorical_accuracy: 0.8600\nEpoch 10/10\n28/32 [=========================>....] - ETA: 0s - loss: 0.0389 - sparse_categorical_accuracy: 0.9978\nEpoch 00010: saving model to training_1\\cp.ckpt\n32/32 [==============================] - 0s 8ms/step - loss: 0.0395 - sparse_categorical_accuracy: 0.9980 - val_loss: 0.3932 - val_sparse_categorical_accuracy: 0.8700\n"
    },
    {
     "output_type": "execute_result",
     "data": {
      "text/plain": "<tensorflow.python.keras.callbacks.History at 0x21d1004e970>"
     },
     "metadata": {},
     "execution_count": 4
    }
   ],
   "source": [
    "checkpoint_path = \"training_1/cp.ckpt\"\n",
    "checkpoint_dir = os.path.dirname(checkpoint_path)\n",
    "\n",
    "# create a callback that saves model weights\n",
    "cp_callback = tf.keras.callbacks.ModelCheckpoint(filepath=checkpoint_path, save_weights_only=True, verbose=1)\n",
    "\n",
    "# train the model while saving checkpoints\n",
    "model.fit(train_images, train_labels, epochs=10, validation_data=(test_images, test_labels), callbacks=[cp_callback])"
   ]
  },
  {
   "cell_type": "code",
   "execution_count": 5,
   "metadata": {
    "tags": []
   },
   "outputs": [
    {
     "output_type": "stream",
     "name": "stdout",
     "text": "Volume in drive C has no label.\n Volume Serial Number is 46A9-68DD\n\n Directory of c:\\Users\\kevin\\Documents\\PythonProjects\\TensorflowCoding\\Basics\\training_1\n\n09/22/2020  01:14 PM    <DIR>          .\n09/22/2020  01:14 PM    <DIR>          ..\n09/22/2020  01:14 PM                71 checkpoint\n09/22/2020  01:14 PM         4,886,673 cp.ckpt.data-00000-of-00001\n09/22/2020  01:14 PM             1,222 cp.ckpt.index\n               3 File(s)      4,887,966 bytes\n               2 Dir(s)   7,136,460,800 bytes free\n"
    }
   ],
   "source": [
    "ls {checkpoint_dir}"
   ]
  },
  {
   "cell_type": "markdown",
   "metadata": {},
   "source": [
    "# Load checkpoint"
   ]
  },
  {
   "cell_type": "code",
   "execution_count": 6,
   "metadata": {
    "tags": []
   },
   "outputs": [
    {
     "output_type": "stream",
     "name": "stdout",
     "text": "32/32 - 0s - loss: 2.4614 - sparse_categorical_accuracy: 0.0370\nUntrained model, accuracy:  3.70%\n"
    }
   ],
   "source": [
    "# create basic model without training\n",
    "model = create_model()\n",
    "\n",
    "# evaluate model\n",
    "loss, acc = model.evaluate(test_images, test_labels, verbose=2)\n",
    "print(\"Untrained model, accuracy: {:5.2f}%\".format(100*acc))"
   ]
  },
  {
   "cell_type": "code",
   "execution_count": 7,
   "metadata": {
    "tags": []
   },
   "outputs": [
    {
     "output_type": "stream",
     "name": "stdout",
     "text": "32/32 - 0s - loss: 0.3932 - sparse_categorical_accuracy: 0.8700\nRestored model, accuracy: 87.00%\n"
    }
   ],
   "source": [
    "# load the weights\n",
    "model.load_weights(checkpoint_path)\n",
    "\n",
    "# evaluate model with loaded weights\n",
    "loss, acc = model.evaluate(test_images, test_labels, verbose=2)\n",
    "print(\"Restored model, accuracy: {:5.2f}%\".format(100*acc))"
   ]
  },
  {
   "cell_type": "markdown",
   "metadata": {},
   "source": [
    "# Checkpoint configuration"
   ]
  },
  {
   "cell_type": "code",
   "execution_count": 8,
   "metadata": {
    "tags": []
   },
   "outputs": [
    {
     "output_type": "stream",
     "name": "stdout",
     "text": "WARNING:tensorflow:`period` argument is deprecated. Please use `save_freq` to specify the frequency in number of batches seen.\n\nEpoch 00005: saving model to training_2\\cp-0005.ckpt\n\nEpoch 00010: saving model to training_2\\cp-0010.ckpt\n\nEpoch 00015: saving model to training_2\\cp-0015.ckpt\n\nEpoch 00020: saving model to training_2\\cp-0020.ckpt\n\nEpoch 00025: saving model to training_2\\cp-0025.ckpt\n\nEpoch 00030: saving model to training_2\\cp-0030.ckpt\n\nEpoch 00035: saving model to training_2\\cp-0035.ckpt\n\nEpoch 00040: saving model to training_2\\cp-0040.ckpt\n\nEpoch 00045: saving model to training_2\\cp-0045.ckpt\n\nEpoch 00050: saving model to training_2\\cp-0050.ckpt\n"
    },
    {
     "output_type": "execute_result",
     "data": {
      "text/plain": "<tensorflow.python.keras.callbacks.History at 0x21d242072b0>"
     },
     "metadata": {},
     "execution_count": 8
    }
   ],
   "source": [
    "# include epoch in the file name\n",
    "checkpoint_path = \"training_2/cp-{epoch:04d}.ckpt\"\n",
    "checkpoint_dir = os.path.dirname(checkpoint_path)\n",
    "\n",
    "# create callback that saves models every 5 epochs\n",
    "cp_callback = tf.keras.callbacks.ModelCheckpoint(\n",
    "    filepath=checkpoint_path,\n",
    "    verbose=1,\n",
    "    save_weights_only=True,\n",
    "    period=5\n",
    ")\n",
    "\n",
    "model = create_model()\n",
    "\n",
    "# save weights using the checkpoint_path format\n",
    "model.save_weights(checkpoint_path.format(epoch=0))\n",
    "\n",
    "# train the model while saving checkpoints\n",
    "model.fit(train_images, train_labels, epochs=50, validation_data=(test_images, test_labels), callbacks=[cp_callback], verbose=0)"
   ]
  },
  {
   "cell_type": "code",
   "execution_count": 9,
   "metadata": {},
   "outputs": [
    {
     "output_type": "execute_result",
     "data": {
      "text/plain": "'training_2\\\\cp-0050.ckpt'"
     },
     "metadata": {},
     "execution_count": 9
    }
   ],
   "source": [
    "latest = tf.train.latest_checkpoint(checkpoint_dir)\n",
    "latest"
   ]
  },
  {
   "cell_type": "code",
   "execution_count": 10,
   "metadata": {
    "tags": []
   },
   "outputs": [
    {
     "output_type": "stream",
     "name": "stdout",
     "text": "32/32 - 0s - loss: 0.4949 - sparse_categorical_accuracy: 0.8720\nRestored model, accuracy: 87.20%\n"
    }
   ],
   "source": [
    "# evaluate the latest weight\n",
    "\n",
    "model = create_model()\n",
    "model.load_weights(latest)\n",
    "\n",
    "loss, acc = model.evaluate(test_images, test_labels, verbose=2)\n",
    "print(\"Restored model, accuracy: {:5.2f}%\".format(100*acc))"
   ]
  },
  {
   "cell_type": "markdown",
   "metadata": {},
   "source": [
    "# Manually save weights"
   ]
  },
  {
   "cell_type": "code",
   "execution_count": 11,
   "metadata": {
    "tags": []
   },
   "outputs": [
    {
     "output_type": "stream",
     "name": "stdout",
     "text": "32/32 - 0s - loss: 0.4949 - sparse_categorical_accuracy: 0.8720\nRestored model, accuracy: 87.20%\n"
    }
   ],
   "source": [
    "# can also manually save weights, e.g. at the end of training\n",
    "model.save_weights('./checkpoints/my_checkpoint')\n",
    "\n",
    "model = create_model()\n",
    "\n",
    "# restore weights\n",
    "model.load_weights('./checkpoints/my_checkpoint')\n",
    "\n",
    "# eval restored weights\n",
    "loss, acc = model.evaluate(test_images, test_labels, verbose=2)\n",
    "print(\"Restored model, accuracy: {:5.2f}%\".format(100*acc))"
   ]
  },
  {
   "cell_type": "markdown",
   "metadata": {},
   "source": [
    "# Save entire model"
   ]
  },
  {
   "cell_type": "code",
   "execution_count": 12,
   "metadata": {},
   "outputs": [],
   "source": [
    "# can save entire model including architecture, weights, training configurations, and then can be exported\n",
    "# optimizer-state is also saved and recovered, so can continue training when loaded\n",
    "# can be save in either SavedModel or HDF5 format, and can be loaded in TensorFlow.js or TensorFlow Lite"
   ]
  },
  {
   "cell_type": "markdown",
   "metadata": {},
   "source": [
    "### SavedModel"
   ]
  },
  {
   "cell_type": "code",
   "execution_count": 13,
   "metadata": {
    "tags": []
   },
   "outputs": [
    {
     "output_type": "stream",
     "name": "stdout",
     "text": "Epoch 1/5\n32/32 [==============================] - 0s 2ms/step - loss: 1.1427 - sparse_categorical_accuracy: 0.6660\nEpoch 2/5\n32/32 [==============================] - 0s 2ms/step - loss: 0.4257 - sparse_categorical_accuracy: 0.8760\nEpoch 3/5\n32/32 [==============================] - 0s 2ms/step - loss: 0.2793 - sparse_categorical_accuracy: 0.9270\nEpoch 4/5\n32/32 [==============================] - 0s 2ms/step - loss: 0.1962 - sparse_categorical_accuracy: 0.9560\nEpoch 5/5\n32/32 [==============================] - 0s 2ms/step - loss: 0.1566 - sparse_categorical_accuracy: 0.9640\nINFO:tensorflow:Assets written to: saved_model/my_model\\assets\n"
    }
   ],
   "source": [
    "# create and train a new model\n",
    "model = create_model()\n",
    "model.fit(train_images, train_labels, epochs=5)\n",
    "\n",
    "# save entire model as SavedModel\n",
    "!mkdir -p saved_model\n",
    "model.save('saved_model/my_model')"
   ]
  },
  {
   "cell_type": "code",
   "execution_count": 15,
   "metadata": {
    "tags": []
   },
   "outputs": [
    {
     "output_type": "stream",
     "name": "stdout",
     "text": "Model: \"sequential_5\"\n_________________________________________________________________\nLayer (type)                 Output Shape              Param #   \n=================================================================\ndense_10 (Dense)             (None, 512)               401920    \n_________________________________________________________________\ndropout_5 (Dropout)          (None, 512)               0         \n_________________________________________________________________\ndense_11 (Dense)             (None, 10)                5130      \n=================================================================\nTotal params: 407,050\nTrainable params: 407,050\nNon-trainable params: 0\n_________________________________________________________________\n"
    }
   ],
   "source": [
    "# reload the SavedModel\n",
    "new_model = tf.keras.models.load_model('saved_model/my_model')\n",
    "\n",
    "# check reload architecture\n",
    "new_model.summary()"
   ]
  },
  {
   "cell_type": "code",
   "execution_count": 16,
   "metadata": {
    "tags": []
   },
   "outputs": [
    {
     "output_type": "stream",
     "name": "stdout",
     "text": "32/32 - 0s - loss: 0.4125 - sparse_categorical_accuracy: 0.8700\nRestored model, accuracy: 87.00%\n"
    }
   ],
   "source": [
    "# evaluate restored model\n",
    "loss, acc = model.evaluate(test_images, test_labels, verbose=2)\n",
    "print(\"Restored model, accuracy: {:5.2f}%\".format(100*acc))"
   ]
  },
  {
   "cell_type": "markdown",
   "metadata": {},
   "source": [
    "### HDF5"
   ]
  },
  {
   "cell_type": "code",
   "execution_count": 17,
   "metadata": {
    "tags": []
   },
   "outputs": [
    {
     "output_type": "stream",
     "name": "stdout",
     "text": "Epoch 1/5\n32/32 [==============================] - 0s 2ms/step - loss: 1.1270 - sparse_categorical_accuracy: 0.6860\nEpoch 2/5\n32/32 [==============================] - 0s 2ms/step - loss: 0.4314 - sparse_categorical_accuracy: 0.8800\nEpoch 3/5\n32/32 [==============================] - 0s 2ms/step - loss: 0.2691 - sparse_categorical_accuracy: 0.9340\nEpoch 4/5\n32/32 [==============================] - 0s 2ms/step - loss: 0.2080 - sparse_categorical_accuracy: 0.9540\nEpoch 5/5\n32/32 [==============================] - 0s 2ms/step - loss: 0.1490 - sparse_categorical_accuracy: 0.9650\n"
    }
   ],
   "source": [
    "# create and train a new model\n",
    "model = create_model()\n",
    "model.fit(train_images, train_labels, epochs=5)\n",
    "\n",
    "# save entire model as HDF5\n",
    "model.save('my_model.h5')"
   ]
  },
  {
   "cell_type": "code",
   "execution_count": 18,
   "metadata": {
    "tags": []
   },
   "outputs": [
    {
     "output_type": "stream",
     "name": "stdout",
     "text": "Model: \"sequential_6\"\n_________________________________________________________________\nLayer (type)                 Output Shape              Param #   \n=================================================================\ndense_12 (Dense)             (None, 512)               401920    \n_________________________________________________________________\ndropout_6 (Dropout)          (None, 512)               0         \n_________________________________________________________________\ndense_13 (Dense)             (None, 10)                5130      \n=================================================================\nTotal params: 407,050\nTrainable params: 407,050\nNon-trainable params: 0\n_________________________________________________________________\n"
    }
   ],
   "source": [
    "# reload HDF5 model\n",
    "new_model = tf.keras.models.load_model('my_model.h5')\n",
    "\n",
    "# check reload architecture\n",
    "new_model.summary()"
   ]
  },
  {
   "cell_type": "code",
   "execution_count": 19,
   "metadata": {
    "tags": []
   },
   "outputs": [
    {
     "output_type": "stream",
     "name": "stdout",
     "text": "32/32 - 0s - loss: 0.4623 - sparse_categorical_accuracy: 0.8550\nRestored model, accuracy: 85.50%\n"
    }
   ],
   "source": [
    "# evaluate restored model\n",
    "loss, acc = model.evaluate(test_images, test_labels, verbose=2)\n",
    "print(\"Restored model, accuracy: {:5.2f}%\".format(100*acc))"
   ]
  },
  {
   "cell_type": "code",
   "execution_count": null,
   "metadata": {},
   "outputs": [],
   "source": []
  }
 ]
}