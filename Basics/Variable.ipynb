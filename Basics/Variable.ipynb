{
 "metadata": {
  "language_info": {
   "codemirror_mode": {
    "name": "ipython",
    "version": 3
   },
   "file_extension": ".py",
   "mimetype": "text/x-python",
   "name": "python",
   "nbconvert_exporter": "python",
   "pygments_lexer": "ipython3",
   "version": "3.8.5"
  },
  "orig_nbformat": 2,
  "kernelspec": {
   "name": "python385jvsc74a57bd003d955eb93c0674e7dc8f30f1e6eb1a1785a8794e789434a5fe49fcdfda17640",
   "display_name": "Python 3.8.5 64-bit ('TensorflowEnv': venv)"
  }
 },
 "nbformat": 4,
 "nbformat_minor": 2,
 "cells": [
  {
   "cell_type": "code",
   "execution_count": 2,
   "metadata": {},
   "outputs": [],
   "source": [
    "import tensorflow as tf"
   ]
  },
  {
   "source": [
    "# Create variable"
   ],
   "cell_type": "markdown",
   "metadata": {}
  },
  {
   "cell_type": "code",
   "execution_count": 3,
   "metadata": {},
   "outputs": [],
   "source": [
    "my_tensor = tf.constant([[1.0, 2.0], [3.0, 4.0]])\n",
    "my_variable = tf.Variable(my_tensor)\n",
    "\n",
    "# variables can be all kinds of types\n",
    "bool_variable = tf.Variable([False, False, False, True])\n",
    "complex_variable = tf.Variable([5+4j, 6+1j])"
   ]
  },
  {
   "cell_type": "code",
   "execution_count": 4,
   "metadata": {},
   "outputs": [
    {
     "output_type": "stream",
     "name": "stdout",
     "text": [
      "shape:  (2, 2)\ndtype:  <dtype: 'float32'>\nas numpy [[1. 2.]\n [3. 4.]]\n"
     ]
    }
   ],
   "source": [
    "# variable has shape and dtype, can conver to numpy\n",
    "print(\"shape: \", my_variable.shape)\n",
    "print(\"dtype: \", my_variable.dtype)\n",
    "print(\"as numpy\", my_variable.numpy())"
   ]
  },
  {
   "cell_type": "code",
   "execution_count": 5,
   "metadata": {},
   "outputs": [
    {
     "output_type": "stream",
     "name": "stdout",
     "text": [
      "as tensor:  tf.Tensor(\n[[1. 2.]\n [3. 4.]], shape=(2, 2), dtype=float32)\nindex of max:  tf.Tensor([1 1], shape=(2,), dtype=int64)\ncopy and reshape:  tf.Tensor([[1. 2. 3. 4.]], shape=(1, 4), dtype=float32)\n"
     ]
    }
   ],
   "source": [
    "# most tensor ops can be done on variables\n",
    "print(\"as tensor: \", tf.convert_to_tensor(my_variable))\n",
    "print(\"index of max: \", tf.argmax(my_variable))\n",
    "\n",
    "# but cannot reshape variable, this will create a new tensor\n",
    "print(\"copy and reshape: \", tf.reshape(my_variable, [1, 4]))"
   ]
  },
  {
   "cell_type": "code",
   "execution_count": 6,
   "metadata": {},
   "outputs": [
    {
     "output_type": "execute_result",
     "data": {
      "text/plain": [
       "<tf.Variable 'UnreadVariable' shape=(2,) dtype=float32, numpy=array([1., 2.], dtype=float32)>"
      ]
     },
     "metadata": {},
     "execution_count": 6
    }
   ],
   "source": [
    "# can change the value of variable using assign\n",
    "a = tf.Variable([2.0, 3.0])\n",
    "a.assign([1, 2])"
   ]
  },
  {
   "cell_type": "code",
   "execution_count": 7,
   "metadata": {},
   "outputs": [
    {
     "output_type": "stream",
     "name": "stdout",
     "text": [
      "[5. 6.]\n[2. 3.]\n[7. 9.]\n[0. 0.]\n"
     ]
    }
   ],
   "source": [
    "a = tf.Variable([2.0, 3.0])\n",
    "# this will duplicate a as a separate variable\n",
    "b = tf.Variable(a)\n",
    "a.assign([5, 6])\n",
    "\n",
    "# a and b are now different\n",
    "print(a.numpy())\n",
    "print(b.numpy())\n",
    "\n",
    "# can also assign with basic add and subtract\n",
    "print(a.assign_add([2, 3]).numpy())\n",
    "print(a.assign_sub([7, 9]).numpy())"
   ]
  },
  {
   "cell_type": "code",
   "execution_count": 8,
   "metadata": {},
   "outputs": [],
   "source": [
    "# can set trainable to false\n",
    "step_counter = tf.Variable(1, trainable=False)"
   ]
  },
  {
   "cell_type": "code",
   "execution_count": null,
   "metadata": {},
   "outputs": [],
   "source": []
  }
 ]
}