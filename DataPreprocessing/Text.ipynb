{
 "metadata": {
  "language_info": {
   "codemirror_mode": {
    "name": "ipython",
    "version": 3
   },
   "file_extension": ".py",
   "mimetype": "text/x-python",
   "name": "python",
   "nbconvert_exporter": "python",
   "pygments_lexer": "ipython3",
   "version": "3.8.5-final"
  },
  "orig_nbformat": 2,
  "kernelspec": {
   "name": "Python 3.8.5 64-bit",
   "display_name": "Python 3.8.5 64-bit",
   "metadata": {
    "interpreter": {
     "hash": "03d955eb93c0674e7dc8f30f1e6eb1a1785a8794e789434a5fe49fcdfda17640"
    }
   }
  }
 },
 "nbformat": 4,
 "nbformat_minor": 2,
 "cells": [
  {
   "cell_type": "code",
   "execution_count": 1,
   "metadata": {},
   "outputs": [],
   "source": [
    "import tensorflow as tf\n",
    "import tensorflow_datasets as tfds\n",
    "\n",
    "import os"
   ]
  },
  {
   "source": [
    "# Get data"
   ],
   "cell_type": "markdown",
   "metadata": {}
  },
  {
   "cell_type": "code",
   "execution_count": 2,
   "metadata": {
    "tags": []
   },
   "outputs": [
    {
     "output_type": "execute_result",
     "data": {
      "text/plain": "&#39;C:\\\\Users\\\\kevin\\\\.keras\\\\datasets&#39;"
     },
     "metadata": {},
     "execution_count": 2
    }
   ],
   "source": [
    "DIRECTORY_URL = 'https://storage.googleapis.com/download.tensorflow.org/data/illiad/'\n",
    "FILE_NAMES = ['cowper.txt', 'derby.txt', 'butler.txt'] # 3 translations\n",
    "\n",
    "for name in FILE_NAMES:\n",
    "    text_dir = tf.keras.utils.get_file(name, origin=DIRECTORY_URL+name)\n",
    "\n",
    "parent_dir = os.path.dirname(text_dir)\n",
    "parent_dir"
   ]
  },
  {
   "source": [
    "# Load into datasets"
   ],
   "cell_type": "markdown",
   "metadata": {}
  },
  {
   "cell_type": "code",
   "execution_count": 3,
   "metadata": {},
   "outputs": [],
   "source": [
    "# function to be used by tf.data.Dataset.map() to label each example\n",
    "def labeler(example, index):\n",
    "    return example, tf.cast(index, tf.int64)\n",
    "\n",
    "labeled_data_sets = []\n",
    "\n",
    "# load each file into its own dataset\n",
    "for i, file_name in enumerate(FILE_NAMES):\n",
    "    lines_dataset = tf.data.TextLineDataset(os.path.join(parent_dir, file_name))\n",
    "    labeled_dataset = lines_dataset.map(lambda ex: labeler(ex, i))\n",
    "    labeled_data_sets.append(labeled_dataset)"
   ]
  },
  {
   "cell_type": "code",
   "execution_count": 4,
   "metadata": {},
   "outputs": [],
   "source": [
    "# combine the three labeled datasets into one, and shuffle\n",
    "\n",
    "BUFFER_SIZE = 50000\n",
    "BATCH_SIZE = 64\n",
    "TAKE_SIZE = 5000\n",
    "\n",
    "all_labeled_data = labeled_data_sets[0]\n",
    "\n",
    "for labeled_dataset in labeled_data_sets[1:]:\n",
    "    all_labeled_data = all_labeled_data.concatenate(labeled_dataset)\n",
    "\n",
    "all_labeled_data = all_labeled_data.shuffle(BUFFER_SIZE, reshuffle_each_iteration=False)"
   ]
  },
  {
   "cell_type": "code",
   "execution_count": 5,
   "metadata": {
    "tags": []
   },
   "outputs": [
    {
     "output_type": "stream",
     "name": "stdout",
     "text": "(&lt;tf.Tensor: shape=(), dtype=string, numpy=b&#39;An idler all the day, or if by force&#39;&gt;, &lt;tf.Tensor: shape=(), dtype=int64, numpy=0&gt;)\n(&lt;tf.Tensor: shape=(), dtype=string, numpy=b&#39;To meet his rage, for fear is on them all;&#39;&gt;, &lt;tf.Tensor: shape=(), dtype=int64, numpy=1&gt;)\n(&lt;tf.Tensor: shape=(), dtype=string, numpy=b&quot;His helmet&#39;s crest, but, brass encount&#39;ring brass,&quot;&gt;, &lt;tf.Tensor: shape=(), dtype=int64, numpy=1&gt;)\n(&lt;tf.Tensor: shape=(), dtype=string, numpy=b&#39;Hector hurried from the house when she had done speaking, and went down&#39;&gt;, &lt;tf.Tensor: shape=(), dtype=int64, numpy=2&gt;)\n(&lt;tf.Tensor: shape=(), dtype=string, numpy=b&#39;blessed parents.&quot;&#39;&gt;, &lt;tf.Tensor: shape=(), dtype=int64, numpy=2&gt;)\n"
    }
   ],
   "source": [
    "# check some data in the format of (example, label)\n",
    "for example in all_labeled_data.take(5):\n",
    "    print(example)"
   ]
  },
  {
   "source": [
    "# Encode text lines as numbers"
   ],
   "cell_type": "markdown",
   "metadata": {}
  },
  {
   "source": [
    "### build vocabulary"
   ],
   "cell_type": "markdown",
   "metadata": {}
  },
  {
   "cell_type": "code",
   "execution_count": 6,
   "metadata": {},
   "outputs": [
    {
     "output_type": "execute_result",
     "data": {
      "text/plain": "17178"
     },
     "metadata": {},
     "execution_count": 6
    }
   ],
   "source": [
    "tokenizer = tfds.deprecated.text.Tokenizer()\n",
    "\n",
    "vocabulary_set = set()\n",
    "\n",
    "for text_tensor, _ in all_labeled_data:\n",
    "    # tokenize the text\n",
    "    some_tokens = tokenizer.tokenize(text_tensor.numpy())\n",
    "    # store in a set to remove duplicate tokens\n",
    "    vocabulary_set.update(some_tokens)\n",
    "\n",
    "vocab_size = len(vocabulary_set)\n",
    "vocab_size"
   ]
  },
  {
   "source": [
    "### encode texts"
   ],
   "cell_type": "markdown",
   "metadata": {}
  },
  {
   "cell_type": "code",
   "execution_count": 7,
   "metadata": {
    "tags": []
   },
   "outputs": [
    {
     "output_type": "stream",
     "name": "stdout",
     "text": "b&#39;An idler all the day, or if by force&#39;\n[14395, 12438, 9520, 3916, 15117, 8190, 10178, 12784, 7598]\n"
    }
   ],
   "source": [
    "# use the vocab set to create encoder\n",
    "encoder = tfds.deprecated.text.TokenTextEncoder(vocabulary_set)\n",
    "\n",
    "example_text = next(iter(all_labeled_data))[0].numpy()\n",
    "print(example_text)\n",
    "encoded_example = encoder.encode(example_text)\n",
    "print(encoded_example)"
   ]
  },
  {
   "cell_type": "code",
   "execution_count": 8,
   "metadata": {},
   "outputs": [],
   "source": [
    "# put encoder in a function so it can be used by Dataset.map()\n",
    "def encode(text_tensor, label):\n",
    "    encoded_text = encoder.encode(text_tensor.numpy())\n",
    "    return encoded_text, label\n",
    "\n",
    "# need to put in a tf.py_function\n",
    "def encode_map_fn(text, label):\n",
    "    encoded_text, label = tf.py_function(encode, inp=[text, label], Tout=(tf.int64, tf.int64))\n",
    "\n",
    "    # tf.data.Datasets is more efficient if all components have a shape set, so set manually\n",
    "    encoded_text.set_shape([None])\n",
    "    label.set_shape([])\n",
    "\n",
    "    return encoded_text, label\n",
    "\n",
    "all_encoded_data = all_labeled_data.map(encode_map_fn)"
   ]
  },
  {
   "source": [
    "# Trainging and test set"
   ],
   "cell_type": "markdown",
   "metadata": {}
  },
  {
   "cell_type": "code",
   "execution_count": 9,
   "metadata": {},
   "outputs": [],
   "source": [
    "train_data = all_encoded_data.skip(TAKE_SIZE).shuffle(BUFFER_SIZE)\n",
    "train_data = train_data.padded_batch(BATCH_SIZE) # use padded_batch because not every sample has same length of text\n",
    "\n",
    "test_data = all_encoded_data.take(TAKE_SIZE)\n",
    "test_data = test_data.padded_batch(BATCH_SIZE)"
   ]
  },
  {
   "cell_type": "code",
   "execution_count": 10,
   "metadata": {},
   "outputs": [],
   "source": [
    "# a new token encoding is added (the 0 used for padding), so increase vocab_size\n",
    "vocab_size += 1"
   ]
  },
  {
   "source": [
    "# Build model"
   ],
   "cell_type": "markdown",
   "metadata": {}
  },
  {
   "cell_type": "code",
   "execution_count": 11,
   "metadata": {},
   "outputs": [],
   "source": [
    "model = tf.keras.Sequential()\n",
    "\n",
    "# embedding layer\n",
    "model.add(tf.keras.layers.Embedding(vocab_size, 64))\n",
    "# LSTM layer helps to understand words before and after (bidirectional)\n",
    "model.add(tf.keras.layers.Bidirectional(tf.keras.layers.LSTM(64)))\n",
    "# one for more dense layers, edit the list to change layers\n",
    "for units in [64, 64]:\n",
    "    model.add(tf.keras.layers.Dense(units, activation='relu'))\n",
    "# output layer\n",
    "model.add(tf.keras.layers.Dense(3))"
   ]
  },
  {
   "cell_type": "code",
   "execution_count": 12,
   "metadata": {},
   "outputs": [],
   "source": [
    "model.compile(optimizer='adam', loss=tf.keras.losses.SparseCategoricalCrossentropy(from_logits=True), metrics=['accuracy'])"
   ]
  },
  {
   "source": [
    "# Train"
   ],
   "cell_type": "markdown",
   "metadata": {}
  },
  {
   "cell_type": "code",
   "execution_count": 13,
   "metadata": {
    "tags": []
   },
   "outputs": [
    {
     "output_type": "stream",
     "name": "stdout",
     "text": "Epoch 1/3\n697/697 [==============================] - 11s 16ms/step - loss: 0.5245 - accuracy: 0.7378 - val_loss: 0.3799 - val_accuracy: 0.8282\nEpoch 2/3\n697/697 [==============================] - 12s 18ms/step - loss: 0.2966 - accuracy: 0.8676 - val_loss: 0.3653 - val_accuracy: 0.8362\nEpoch 3/3\n697/697 [==============================] - 11s 15ms/step - loss: 0.2223 - accuracy: 0.9039 - val_loss: 0.3925 - val_accuracy: 0.8350\n"
    },
    {
     "output_type": "execute_result",
     "data": {
      "text/plain": "&lt;tensorflow.python.keras.callbacks.History at 0x1c2745e0b50&gt;"
     },
     "metadata": {},
     "execution_count": 13
    }
   ],
   "source": [
    "model.fit(train_data, epochs=3, validation_data=test_data)"
   ]
  },
  {
   "cell_type": "code",
   "execution_count": 14,
   "metadata": {
    "tags": []
   },
   "outputs": [
    {
     "output_type": "stream",
     "name": "stdout",
     "text": "79/79 [==============================] - 1s 15ms/step - loss: 0.3925 - accuracy: 0.8350\n\nEval loss: 0.393, Eval accuracy: 0.835\n"
    }
   ],
   "source": [
    "eval_loss, eval_acc = model.evaluate(test_data)\n",
    "print('\\nEval loss: {:.3f}, Eval accuracy: {:.3f}'.format(eval_loss, eval_acc))"
   ]
  },
  {
   "cell_type": "code",
   "execution_count": null,
   "metadata": {},
   "outputs": [],
   "source": []
  }
 ]
}