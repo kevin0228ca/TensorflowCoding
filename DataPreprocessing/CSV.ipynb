{
 "metadata": {
  "language_info": {
   "codemirror_mode": {
    "name": "ipython",
    "version": 3
   },
   "file_extension": ".py",
   "mimetype": "text/x-python",
   "name": "python",
   "nbconvert_exporter": "python",
   "pygments_lexer": "ipython3",
   "version": "3.8.5-final"
  },
  "orig_nbformat": 2,
  "kernelspec": {
   "name": "Python 3.8.5 64-bit",
   "display_name": "Python 3.8.5 64-bit",
   "metadata": {
    "interpreter": {
     "hash": "03d955eb93c0674e7dc8f30f1e6eb1a1785a8794e789434a5fe49fcdfda17640"
    }
   }
  }
 },
 "nbformat": 4,
 "nbformat_minor": 2,
 "cells": [
  {
   "cell_type": "code",
   "execution_count": 1,
   "metadata": {},
   "outputs": [],
   "source": [
    "import pandas as pd\n",
    "import numpy as np\n",
    "np.set_printoptions(precision=3, suppress=True)\n",
    "import itertools\n",
    "import pathlib\n",
    "import re\n",
    "from matplotlib import pyplot as plt\n",
    "\n",
    "import tensorflow as tf\n",
    "from tensorflow.keras import layers\n",
    "from tensorflow.keras.layers.experimental import preprocessing"
   ]
  },
  {
   "source": [
    "# Load data"
   ],
   "cell_type": "markdown",
   "metadata": {}
  },
  {
   "cell_type": "code",
   "execution_count": 2,
   "metadata": {},
   "outputs": [
    {
     "output_type": "execute_result",
     "data": {
      "text/plain": [
       "   Length  Diameter  Height  Whole weight  Shucked weight  Viscera weight  \\\n",
       "0   0.435     0.335   0.110         0.334          0.1355          0.0775   \n",
       "1   0.585     0.450   0.125         0.874          0.3545          0.2075   \n",
       "2   0.655     0.510   0.160         1.092          0.3960          0.2825   \n",
       "3   0.545     0.425   0.125         0.768          0.2940          0.1495   \n",
       "4   0.545     0.420   0.130         0.879          0.3740          0.1695   \n",
       "\n",
       "   Shell weight  Age  \n",
       "0        0.0965    7  \n",
       "1        0.2250    6  \n",
       "2        0.3700   14  \n",
       "3        0.2600   16  \n",
       "4        0.2300   13  "
      ],
      "text/html": "<div>\n<style scoped>\n    .dataframe tbody tr th:only-of-type {\n        vertical-align: middle;\n    }\n\n    .dataframe tbody tr th {\n        vertical-align: top;\n    }\n\n    .dataframe thead th {\n        text-align: right;\n    }\n</style>\n<table border=\"1\" class=\"dataframe\">\n  <thead>\n    <tr style=\"text-align: right;\">\n      <th></th>\n      <th>Length</th>\n      <th>Diameter</th>\n      <th>Height</th>\n      <th>Whole weight</th>\n      <th>Shucked weight</th>\n      <th>Viscera weight</th>\n      <th>Shell weight</th>\n      <th>Age</th>\n    </tr>\n  </thead>\n  <tbody>\n    <tr>\n      <th>0</th>\n      <td>0.435</td>\n      <td>0.335</td>\n      <td>0.110</td>\n      <td>0.334</td>\n      <td>0.1355</td>\n      <td>0.0775</td>\n      <td>0.0965</td>\n      <td>7</td>\n    </tr>\n    <tr>\n      <th>1</th>\n      <td>0.585</td>\n      <td>0.450</td>\n      <td>0.125</td>\n      <td>0.874</td>\n      <td>0.3545</td>\n      <td>0.2075</td>\n      <td>0.2250</td>\n      <td>6</td>\n    </tr>\n    <tr>\n      <th>2</th>\n      <td>0.655</td>\n      <td>0.510</td>\n      <td>0.160</td>\n      <td>1.092</td>\n      <td>0.3960</td>\n      <td>0.2825</td>\n      <td>0.3700</td>\n      <td>14</td>\n    </tr>\n    <tr>\n      <th>3</th>\n      <td>0.545</td>\n      <td>0.425</td>\n      <td>0.125</td>\n      <td>0.768</td>\n      <td>0.2940</td>\n      <td>0.1495</td>\n      <td>0.2600</td>\n      <td>16</td>\n    </tr>\n    <tr>\n      <th>4</th>\n      <td>0.545</td>\n      <td>0.420</td>\n      <td>0.130</td>\n      <td>0.879</td>\n      <td>0.3740</td>\n      <td>0.1695</td>\n      <td>0.2300</td>\n      <td>13</td>\n    </tr>\n  </tbody>\n</table>\n</div>"
     },
     "metadata": {},
     "execution_count": 2
    }
   ],
   "source": [
    "abalone_train = pd.read_csv(\n",
    "    \"https://storage.googleapis.com/download.tensorflow.org/data/abalone_train.csv\", header=None, \n",
    "    names=[\"Length\", \"Diameter\", \"Height\", \"Whole weight\", \"Shucked weight\",\n",
    "           \"Viscera weight\", \"Shell weight\", \"Age\"])\n",
    "\n",
    "abalone_train.head()"
   ]
  },
  {
   "cell_type": "code",
   "execution_count": 3,
   "metadata": {},
   "outputs": [],
   "source": [
    "abalone_features = abalone_train.copy()\n",
    "abalone_labels = abalone_features.pop('Age') # label is the age, rest are features"
   ]
  },
  {
   "cell_type": "code",
   "execution_count": 4,
   "metadata": {},
   "outputs": [
    {
     "output_type": "execute_result",
     "data": {
      "text/plain": [
       "array([[0.435, 0.335, 0.11 , ..., 0.136, 0.077, 0.097],\n",
       "       [0.585, 0.45 , 0.125, ..., 0.354, 0.207, 0.225],\n",
       "       [0.655, 0.51 , 0.16 , ..., 0.396, 0.282, 0.37 ],\n",
       "       ...,\n",
       "       [0.53 , 0.42 , 0.13 , ..., 0.374, 0.167, 0.249],\n",
       "       [0.395, 0.315, 0.105, ..., 0.118, 0.091, 0.119],\n",
       "       [0.45 , 0.355, 0.12 , ..., 0.115, 0.067, 0.16 ]])"
      ]
     },
     "metadata": {},
     "execution_count": 4
    }
   ],
   "source": [
    "# treat each feature as equal, pack to np array\n",
    "abalone_features = np.array(abalone_features)\n",
    "abalone_features"
   ]
  },
  {
   "cell_type": "code",
   "execution_count": 5,
   "metadata": {
    "tags": []
   },
   "outputs": [
    {
     "output_type": "stream",
     "name": "stdout",
     "text": [
      "Epoch 1/10\n",
      "104/104 [==============================] - 0s 2ms/step - loss: 62.3165\n",
      "Epoch 2/10\n",
      "104/104 [==============================] - 0s 2ms/step - loss: 11.7985\n",
      "Epoch 3/10\n",
      "104/104 [==============================] - 0s 2ms/step - loss: 8.4300\n",
      "Epoch 4/10\n",
      "104/104 [==============================] - 0s 2ms/step - loss: 7.9515\n",
      "Epoch 5/10\n",
      "104/104 [==============================] - 0s 2ms/step - loss: 7.5257\n",
      "Epoch 6/10\n",
      "104/104 [==============================] - 0s 2ms/step - loss: 7.1701\n",
      "Epoch 7/10\n",
      "104/104 [==============================] - 0s 2ms/step - loss: 6.9057\n",
      "Epoch 8/10\n",
      "104/104 [==============================] - 0s 2ms/step - loss: 6.7174\n",
      "Epoch 9/10\n",
      "104/104 [==============================] - 0s 2ms/step - loss: 6.5683\n",
      "Epoch 10/10\n",
      "104/104 [==============================] - 0s 1ms/step - loss: 6.4717\n"
     ]
    },
    {
     "output_type": "execute_result",
     "data": {
      "text/plain": [
       "<tensorflow.python.keras.callbacks.History at 0x196105c8880>"
      ]
     },
     "metadata": {},
     "execution_count": 5
    }
   ],
   "source": [
    "# simple training\n",
    "abalone_model = tf.keras.Sequential([\n",
    "    layers.Dense(64),\n",
    "    layers.Dense(1)\n",
    "])\n",
    "\n",
    "abalone_model.compile(loss=tf.losses.MeanSquaredError(), optimizer=tf.optimizers.Adam())\n",
    "\n",
    "abalone_model.fit(abalone_features, abalone_labels, epochs=10)"
   ]
  },
  {
   "source": [
    "# Data preprocessing"
   ],
   "cell_type": "markdown",
   "metadata": {}
  },
  {
   "cell_type": "code",
   "execution_count": 6,
   "metadata": {},
   "outputs": [],
   "source": [
    "# normalization layer for numeric features\n",
    "normalize = preprocessing.Normalization()\n",
    "\n",
    "# only adapt layer on the training data\n",
    "normalize.adapt(abalone_features)"
   ]
  },
  {
   "cell_type": "code",
   "execution_count": 7,
   "metadata": {
    "tags": []
   },
   "outputs": [
    {
     "output_type": "stream",
     "name": "stdout",
     "text": [
      "Epoch 1/10\n",
      "104/104 [==============================] - 0s 2ms/step - loss: 92.9822\n",
      "Epoch 2/10\n",
      "104/104 [==============================] - 0s 2ms/step - loss: 53.8556\n",
      "Epoch 3/10\n",
      "104/104 [==============================] - 0s 2ms/step - loss: 16.4184\n",
      "Epoch 4/10\n",
      "104/104 [==============================] - 0s 2ms/step - loss: 5.7108\n",
      "Epoch 5/10\n",
      "104/104 [==============================] - 0s 2ms/step - loss: 5.0121\n",
      "Epoch 6/10\n",
      "104/104 [==============================] - 0s 2ms/step - loss: 4.9869\n",
      "Epoch 7/10\n",
      "104/104 [==============================] - 0s 2ms/step - loss: 4.9511\n",
      "Epoch 8/10\n",
      "104/104 [==============================] - 0s 2ms/step - loss: 4.9621\n",
      "Epoch 9/10\n",
      "104/104 [==============================] - 0s 2ms/step - loss: 4.9112\n",
      "Epoch 10/10\n",
      "104/104 [==============================] - 0s 2ms/step - loss: 4.9309\n"
     ]
    },
    {
     "output_type": "execute_result",
     "data": {
      "text/plain": [
       "<tensorflow.python.keras.callbacks.History at 0x19625c74af0>"
      ]
     },
     "metadata": {},
     "execution_count": 7
    }
   ],
   "source": [
    "# add normalization layer to model\n",
    "norm_abalone_model = tf.keras.Sequential([\n",
    "    normalize,\n",
    "    layers.Dense(64),\n",
    "    layers.Dense(1)\n",
    "])\n",
    "\n",
    "norm_abalone_model.compile(loss=tf.losses.MeanSquaredError(), optimizer=tf.optimizers.Adam())\n",
    "\n",
    "norm_abalone_model.fit(abalone_features, abalone_labels, epochs=10)"
   ]
  },
  {
   "source": [
    "# Mixed data types"
   ],
   "cell_type": "markdown",
   "metadata": {}
  },
  {
   "cell_type": "code",
   "execution_count": 8,
   "metadata": {},
   "outputs": [
    {
     "output_type": "execute_result",
     "data": {
      "text/plain": [
       "   survived     sex   age  n_siblings_spouses  parch     fare  class     deck  \\\n",
       "0         0    male  22.0                   1      0   7.2500  Third  unknown   \n",
       "1         1  female  38.0                   1      0  71.2833  First        C   \n",
       "2         1  female  26.0                   0      0   7.9250  Third  unknown   \n",
       "3         1  female  35.0                   1      0  53.1000  First        C   \n",
       "4         0    male  28.0                   0      0   8.4583  Third  unknown   \n",
       "\n",
       "   embark_town alone  \n",
       "0  Southampton     n  \n",
       "1    Cherbourg     n  \n",
       "2  Southampton     y  \n",
       "3  Southampton     n  \n",
       "4   Queenstown     y  "
      ],
      "text/html": "<div>\n<style scoped>\n    .dataframe tbody tr th:only-of-type {\n        vertical-align: middle;\n    }\n\n    .dataframe tbody tr th {\n        vertical-align: top;\n    }\n\n    .dataframe thead th {\n        text-align: right;\n    }\n</style>\n<table border=\"1\" class=\"dataframe\">\n  <thead>\n    <tr style=\"text-align: right;\">\n      <th></th>\n      <th>survived</th>\n      <th>sex</th>\n      <th>age</th>\n      <th>n_siblings_spouses</th>\n      <th>parch</th>\n      <th>fare</th>\n      <th>class</th>\n      <th>deck</th>\n      <th>embark_town</th>\n      <th>alone</th>\n    </tr>\n  </thead>\n  <tbody>\n    <tr>\n      <th>0</th>\n      <td>0</td>\n      <td>male</td>\n      <td>22.0</td>\n      <td>1</td>\n      <td>0</td>\n      <td>7.2500</td>\n      <td>Third</td>\n      <td>unknown</td>\n      <td>Southampton</td>\n      <td>n</td>\n    </tr>\n    <tr>\n      <th>1</th>\n      <td>1</td>\n      <td>female</td>\n      <td>38.0</td>\n      <td>1</td>\n      <td>0</td>\n      <td>71.2833</td>\n      <td>First</td>\n      <td>C</td>\n      <td>Cherbourg</td>\n      <td>n</td>\n    </tr>\n    <tr>\n      <th>2</th>\n      <td>1</td>\n      <td>female</td>\n      <td>26.0</td>\n      <td>0</td>\n      <td>0</td>\n      <td>7.9250</td>\n      <td>Third</td>\n      <td>unknown</td>\n      <td>Southampton</td>\n      <td>y</td>\n    </tr>\n    <tr>\n      <th>3</th>\n      <td>1</td>\n      <td>female</td>\n      <td>35.0</td>\n      <td>1</td>\n      <td>0</td>\n      <td>53.1000</td>\n      <td>First</td>\n      <td>C</td>\n      <td>Southampton</td>\n      <td>n</td>\n    </tr>\n    <tr>\n      <th>4</th>\n      <td>0</td>\n      <td>male</td>\n      <td>28.0</td>\n      <td>0</td>\n      <td>0</td>\n      <td>8.4583</td>\n      <td>Third</td>\n      <td>unknown</td>\n      <td>Queenstown</td>\n      <td>y</td>\n    </tr>\n  </tbody>\n</table>\n</div>"
     },
     "metadata": {},
     "execution_count": 8
    }
   ],
   "source": [
    "titanic = pd.read_csv(\"https://storage.googleapis.com/tf-datasets/titanic/train.csv\")\n",
    "titanic.head()"
   ]
  },
  {
   "cell_type": "code",
   "execution_count": 9,
   "metadata": {},
   "outputs": [],
   "source": [
    "titanic_features = titanic.copy()\n",
    "titanic_labels = titanic_features.pop('survived')"
   ]
  },
  {
   "cell_type": "code",
   "execution_count": 10,
   "metadata": {},
   "outputs": [
    {
     "output_type": "execute_result",
     "data": {
      "text/plain": [
       "{'sex': <tf.Tensor 'sex:0' shape=(None, 1) dtype=string>,\n",
       " 'age': <tf.Tensor 'age:0' shape=(None, 1) dtype=float32>,\n",
       " 'n_siblings_spouses': <tf.Tensor 'n_siblings_spouses:0' shape=(None, 1) dtype=float32>,\n",
       " 'parch': <tf.Tensor 'parch:0' shape=(None, 1) dtype=float32>,\n",
       " 'fare': <tf.Tensor 'fare:0' shape=(None, 1) dtype=float32>,\n",
       " 'class': <tf.Tensor 'class:0' shape=(None, 1) dtype=string>,\n",
       " 'deck': <tf.Tensor 'deck:0' shape=(None, 1) dtype=string>,\n",
       " 'embark_town': <tf.Tensor 'embark_town:0' shape=(None, 1) dtype=string>,\n",
       " 'alone': <tf.Tensor 'alone:0' shape=(None, 1) dtype=string>}"
      ]
     },
     "metadata": {},
     "execution_count": 10
    }
   ],
   "source": [
    "# create a set of symbolic keras.Input for preprocessing the columns\n",
    "inputs = {}\n",
    "\n",
    "for name, column in titanic_features.items():\n",
    "    dtype = column.dtype\n",
    "    if dtype == object:\n",
    "        dtype = tf.string\n",
    "    else:\n",
    "        dtype = tf.float32\n",
    "\n",
    "    inputs[name] = tf.keras.Input(shape=(1,), name=name, dtype=dtype)\n",
    "\n",
    "inputs"
   ]
  },
  {
   "cell_type": "code",
   "execution_count": 11,
   "metadata": {},
   "outputs": [
    {
     "output_type": "execute_result",
     "data": {
      "text/plain": [
       "<tf.Tensor 'normalization_1/truediv:0' shape=(None, 4) dtype=float32>"
      ]
     },
     "metadata": {},
     "execution_count": 11
    }
   ],
   "source": [
    "# concat numeric inputs, and run normalization\n",
    "\n",
    "numeric_inputs = {name:input for name, input in inputs.items() if input.dtype==tf.float32}\n",
    "\n",
    "x = layers.Concatenate()(list(numeric_inputs.values()))\n",
    "\n",
    "# normalization\n",
    "norm = preprocessing.Normalization()\n",
    "norm.adapt(np.array(titanic[numeric_inputs.keys()]))\n",
    "all_numeric_inputs = norm(x)\n",
    "\n",
    "all_numeric_inputs"
   ]
  },
  {
   "cell_type": "code",
   "execution_count": 12,
   "metadata": {},
   "outputs": [],
   "source": [
    "# collect all symbolic preprocessing results to be concatenated later with string preprocessing\n",
    "preprocessed_inputs = [all_numeric_inputs]"
   ]
  },
  {
   "cell_type": "code",
   "execution_count": 13,
   "metadata": {},
   "outputs": [],
   "source": [
    "# need to one hot encode the string features\n",
    "\n",
    "for name, input in inputs.items():\n",
    "    if input.dtype == tf.float32:\n",
    "        continue\n",
    "\n",
    "    # map string features to integer indices in a vocab\n",
    "    lookup = preprocessing.StringLookup(vocabulary=np.unique(titanic_features[name]))\n",
    "\n",
    "    # one hot encode the feature\n",
    "    one_hot = preprocessing.CategoryEncoding(max_tokens=lookup.vocab_size())\n",
    "\n",
    "    x = lookup(input)\n",
    "    x = one_hot(x)\n",
    "    preprocessed_inputs.append(x)"
   ]
  },
  {
   "cell_type": "code",
   "execution_count": 14,
   "metadata": {},
   "outputs": [
    {
     "output_type": "stream",
     "name": "stdout",
     "text": [
      "('Failed to import pydot. You must `pip install pydot` and install graphviz (https://graphviz.gitlab.io/download/), ', 'for `pydotprint` to work.')\n"
     ]
    }
   ],
   "source": [
    "# create a model that preprocess inputs\n",
    "preprocessed_inputs_cat = layers.Concatenate()(preprocessed_inputs)\n",
    "titanic_preprocessing = tf.keras.Model(inputs, preprocessed_inputs_cat)\n",
    "\n",
    "# plot the model\n",
    "tf.keras.utils.plot_model(model=titanic_preprocessing, rankdir='LR', dpi=72, show_shapes=True)"
   ]
  },
  {
   "cell_type": "code",
   "execution_count": 15,
   "metadata": {},
   "outputs": [],
   "source": [
    "# convert raw feature Dataframe into a dictionary of tensors\n",
    "titanic_features_dict = {name: np.array(value) for name, value in titanic_features.items()}"
   ]
  },
  {
   "cell_type": "code",
   "execution_count": 16,
   "metadata": {},
   "outputs": [
    {
     "output_type": "execute_result",
     "data": {
      "text/plain": [
       "<tf.Tensor: shape=(1, 33), dtype=float32, numpy=\n",
       "array([[-0.61 ,  0.395, -0.479, -0.497,  0.   ,  0.   ,  0.   ,  1.   ,\n",
       "         0.   ,  0.   ,  0.   ,  0.   ,  1.   ,  0.   ,  0.   ,  0.   ,\n",
       "         0.   ,  0.   ,  0.   ,  0.   ,  0.   ,  0.   ,  1.   ,  0.   ,\n",
       "         0.   ,  0.   ,  0.   ,  1.   ,  0.   ,  0.   ,  0.   ,  1.   ,\n",
       "         0.   ]], dtype=float32)>"
      ]
     },
     "metadata": {},
     "execution_count": 16
    }
   ],
   "source": [
    "# check the preprocessing on one sample\n",
    "features_dict = {name:values[:1] for name, values in titanic_features_dict.items()}\n",
    "titanic_preprocessing(features_dict)"
   ]
  },
  {
   "cell_type": "code",
   "execution_count": 17,
   "metadata": {},
   "outputs": [],
   "source": [
    "# build the model\n",
    "def titanic_model(preprocessing_head, inputs):\n",
    "    body = tf.keras.Sequential([\n",
    "        layers.Dense(64),\n",
    "        layers.Dense(1)\n",
    "    ])\n",
    "\n",
    "    # preprocessing\n",
    "    preprocessed_inputs = preprocessing_head(inputs)\n",
    "\n",
    "    result = body(preprocessed_inputs)\n",
    "    \n",
    "    model = tf.keras.Model(inputs, result)\n",
    "    model.compile(loss=tf.losses.BinaryCrossentropy(from_logits=True), optimizer=tf.optimizers.Adam())\n",
    "\n",
    "    return model\n",
    "\n",
    "titanic_model = titanic_model(titanic_preprocessing, inputs)"
   ]
  },
  {
   "cell_type": "code",
   "execution_count": 18,
   "metadata": {},
   "outputs": [
    {
     "output_type": "stream",
     "name": "stdout",
     "text": [
      "Epoch 1/10\n",
      "20/20 [==============================] - 0s 3ms/step - loss: 0.6130\n",
      "Epoch 2/10\n",
      "20/20 [==============================] - 0s 3ms/step - loss: 0.5395\n",
      "Epoch 3/10\n",
      "20/20 [==============================] - 0s 3ms/step - loss: 0.4965\n",
      "Epoch 4/10\n",
      "20/20 [==============================] - 0s 3ms/step - loss: 0.4685\n",
      "Epoch 5/10\n",
      "20/20 [==============================] - 0s 3ms/step - loss: 0.4506\n",
      "Epoch 6/10\n",
      "20/20 [==============================] - 0s 3ms/step - loss: 0.4398\n",
      "Epoch 7/10\n",
      "20/20 [==============================] - 0s 3ms/step - loss: 0.4320\n",
      "Epoch 8/10\n",
      "20/20 [==============================] - 0s 3ms/step - loss: 0.4278\n",
      "Epoch 9/10\n",
      "20/20 [==============================] - 0s 3ms/step - loss: 0.4241\n",
      "Epoch 10/10\n",
      "20/20 [==============================] - 0s 3ms/step - loss: 0.4216\n"
     ]
    },
    {
     "output_type": "execute_result",
     "data": {
      "text/plain": [
       "<tensorflow.python.keras.callbacks.History at 0x1965584a340>"
      ]
     },
     "metadata": {},
     "execution_count": 18
    }
   ],
   "source": [
    "titanic_model.fit(x=titanic_features_dict, y=titanic_labels, epochs=10)"
   ]
  },
  {
   "cell_type": "code",
   "execution_count": 19,
   "metadata": {},
   "outputs": [
    {
     "output_type": "stream",
     "name": "stdout",
     "text": [
      "WARNING:tensorflow:From c:\\SDK\\venv\\TensorflowEnv\\lib\\site-packages\\tensorflow\\python\\training\\tracking\\tracking.py:111: Model.state_updates (from tensorflow.python.keras.engine.training) is deprecated and will be removed in a future version.\n",
      "Instructions for updating:\n",
      "This property should not be used in TensorFlow 2.0, as updates are applied automatically.\n",
      "WARNING:tensorflow:From c:\\SDK\\venv\\TensorflowEnv\\lib\\site-packages\\tensorflow\\python\\training\\tracking\\tracking.py:111: Layer.updates (from tensorflow.python.keras.engine.base_layer) is deprecated and will be removed in a future version.\n",
      "Instructions for updating:\n",
      "This property should not be used in TensorFlow 2.0, as updates are applied automatically.\n",
      "INFO:tensorflow:Assets written to: test\\assets\n",
      "WARNING:tensorflow:5 out of the last 5 calls to <function recreate_function.<locals>.restored_function_body at 0x00000196EDD4EC10> triggered tf.function retracing. Tracing is expensive and the excessive number of tracings could be due to (1) creating @tf.function repeatedly in a loop, (2) passing tensors with different shapes, (3) passing Python objects instead of tensors. For (1), please define your @tf.function outside of the loop. For (2), @tf.function has experimental_relax_shapes=True option that relaxes argument shapes that can avoid unnecessary retracing. For (3), please refer to https://www.tensorflow.org/tutorials/customization/performance#python_or_tensor_args and https://www.tensorflow.org/api_docs/python/tf/function for  more details.\n",
      "tf.Tensor([[-1.944]], shape=(1, 1), dtype=float32)\n",
      "tf.Tensor([[-1.944]], shape=(1, 1), dtype=float32)\n"
     ]
    }
   ],
   "source": [
    "# preprocessing is part of model, so can save and reload\n",
    "titanic_model.save('test')\n",
    "reloaded = tf.keras.models.load_model('test')\n",
    "\n",
    "# check reloaded on one sample\n",
    "features_dict = {name:values[:1] for name, values in titanic_features_dict.items()}\n",
    "before = titanic_model(features_dict)\n",
    "after = reloaded(features_dict)\n",
    "assert (before-after) < 1e-3\n",
    "print(before)\n",
    "print(after)"
   ]
  },
  {
   "source": [
    "# tf.data"
   ],
   "cell_type": "markdown",
   "metadata": {}
  },
  {
   "source": [
    "### in memory data"
   ],
   "cell_type": "markdown",
   "metadata": {}
  },
  {
   "cell_type": "code",
   "execution_count": 20,
   "metadata": {},
   "outputs": [
    {
     "output_type": "stream",
     "name": "stdout",
     "text": [
      "sex                :male\nage                :22.0\nn_siblings_spouses :1\nparch              :0\nfare               :7.25\nclass              :Third\ndeck               :unknown\nembark_town        :Southampton\nalone              :n\n"
     ]
    }
   ],
   "source": [
    "# function to slice features from a dict\n",
    "def slices(features):\n",
    "    for i in itertools.count():\n",
    "        # for each feature take index i\n",
    "        example = {name: values[i] for name, values in features.items()}\n",
    "        yield example\n",
    "\n",
    "# test the function\n",
    "for example in slices(titanic_features_dict):\n",
    "    for name, value in example.items():\n",
    "        print(f\"{name:19s}:{value}\")\n",
    "    break"
   ]
  },
  {
   "cell_type": "code",
   "execution_count": 21,
   "metadata": {},
   "outputs": [
    {
     "output_type": "stream",
     "name": "stdout",
     "text": [
      "sex                :b'male'\nage                :22.0\nn_siblings_spouses :1\nparch              :0\nfare               :7.25\nclass              :b'Third'\ndeck               :b'unknown'\nembark_town        :b'Southampton'\nalone              :b'n'\n"
     ]
    }
   ],
   "source": [
    "# the same can be done using tf.data\n",
    "\n",
    "# this will create a dataset by slicing each item of the dictionary as a sample\n",
    "features_ds = tf.data.Dataset.from_tensor_slices(titanic_features_dict)\n",
    "\n",
    "for example in features_ds:\n",
    "    for name, value in example.items():\n",
    "        print(f\"{name:19s}:{value}\")\n",
    "    break"
   ]
  },
  {
   "cell_type": "code",
   "execution_count": 22,
   "metadata": {},
   "outputs": [],
   "source": [
    "# can also slice a tuple\n",
    "titanic_ds = tf.data.Dataset.from_tensor_slices((titanic_features_dict, titanic_labels))"
   ]
  },
  {
   "cell_type": "code",
   "execution_count": 23,
   "metadata": {},
   "outputs": [
    {
     "output_type": "stream",
     "name": "stdout",
     "text": [
      "Epoch 1/5\n",
      "20/20 [==============================] - 0s 4ms/step - loss: 0.4204\n",
      "Epoch 2/5\n",
      "20/20 [==============================] - 0s 4ms/step - loss: 0.4200\n",
      "Epoch 3/5\n",
      "20/20 [==============================] - 0s 4ms/step - loss: 0.4198\n",
      "Epoch 4/5\n",
      "20/20 [==============================] - 0s 4ms/step - loss: 0.4197\n",
      "Epoch 5/5\n",
      "20/20 [==============================] - 0s 4ms/step - loss: 0.4183\n"
     ]
    },
    {
     "output_type": "execute_result",
     "data": {
      "text/plain": [
       "<tensorflow.python.keras.callbacks.History at 0x1967fb70400>"
      ]
     },
     "metadata": {},
     "execution_count": 23
    }
   ],
   "source": [
    "# shuffle and batch the dataset\n",
    "titanic_batches = titanic_ds.shuffle(len(titanic_labels)).batch(32)\n",
    "\n",
    "# train using dataset\n",
    "titanic_model.fit(titanic_batches, epochs=5)"
   ]
  },
  {
   "source": [
    "### from one file"
   ],
   "cell_type": "markdown",
   "metadata": {}
  },
  {
   "cell_type": "code",
   "execution_count": 24,
   "metadata": {},
   "outputs": [],
   "source": [
    "titanic_file_path = tf.keras.utils.get_file(\"train.csv\", \"https://storage.googleapis.com/tf-datasets/titanic/train.csv\")"
   ]
  },
  {
   "cell_type": "code",
   "execution_count": 25,
   "metadata": {},
   "outputs": [
    {
     "output_type": "stream",
     "name": "stdout",
     "text": [
      "sex                 : [b'male' b'male' b'male' b'male' b'female']\n",
      "age                 : [25. 43. 57.  9. 24.]\n",
      "n_siblings_spouses  : [1 1 0 4 0]\n",
      "parch               : [0 1 0 2 0]\n",
      "fare                : [91.079 26.25  12.35  31.388 83.158]\n",
      "class               : [b'First' b'Second' b'Second' b'Third' b'First']\n",
      "deck                : [b'B' b'unknown' b'unknown' b'unknown' b'C']\n",
      "embark_town         : [b'Cherbourg' b'Southampton' b'Queenstown' b'Southampton' b'Cherbourg']\n",
      "alone               : [b'n' b'n' b'y' b'n' b'y']\n",
      "\n",
      "label               : [1 0 0 0 1]\n"
     ]
    }
   ],
   "source": [
    "# tf.data can also read csv file in dataset\n",
    "# it will automatically use column headers as features, and determine type of each column\n",
    "titanic_csv_ds = tf.data.experimental.make_csv_dataset(\n",
    "    titanic_file_path,\n",
    "    batch_size=5, # for example just use 5\n",
    "    label_name='survived',\n",
    "    num_epochs=1,\n",
    "    ignore_errors=True\n",
    ")\n",
    "\n",
    "# check the loaded dataset\n",
    "for batch, label in titanic_csv_ds.take(1):\n",
    "    for key, value in batch.items():\n",
    "        print(f\"{key:20s}: {value}\")\n",
    "    print()\n",
    "    print(f\"{'label':20s}: {label}\")"
   ]
  },
  {
   "cell_type": "code",
   "execution_count": 26,
   "metadata": {},
   "outputs": [
    {
     "output_type": "stream",
     "name": "stdout",
     "text": [
      "holiday             : [b'None' b'None' b'None' b'None' b'None']\ntemp                : [265.33 280.38 296.1  271.14 272.4 ]\nrain_1h             : [0.   0.   0.25 0.   0.  ]\nsnow_1h             : [0. 0. 0. 0. 0.]\nclouds_all          : [90 40  8 90 90]\nweather_main        : [b'Snow' b'Clouds' b'Rain' b'Haze' b'Mist']\nweather_description : [b'heavy snow' b'scattered clouds' b'light rain' b'haze' b'mist']\ndate_time           : [b'2013-01-03 15:00:00' b'2013-05-06 11:00:00' b'2013-06-16 18:00:00'\n b'2013-02-10 11:00:00' b'2013-03-16 19:00:00']\n\nlabel               : [5297 4507 3472 2177 3572]\n"
     ]
    }
   ],
   "source": [
    "# tf.data can also decompress data\n",
    "traffic_volume_csv_gz = tf.keras.utils.get_file(\n",
    "    'Metro_Interstate_Traffic_Volume.csv.gz', \n",
    "    \"https://archive.ics.uci.edu/ml/machine-learning-databases/00492/Metro_Interstate_Traffic_Volume.csv.gz\",\n",
    "    cache_dir='.', cache_subdir='traffic')\n",
    "\n",
    "traffic_volume_csv_gz_ds = tf.data.experimental.make_csv_dataset(\n",
    "    traffic_volume_csv_gz,\n",
    "    batch_size=256,\n",
    "    label_name='traffic_volume',\n",
    "    num_epochs=1,\n",
    "    compression_type='GZIP'\n",
    ")\n",
    "\n",
    "for batch, label in traffic_volume_csv_gz_ds.take(1):\n",
    "    for key, value in batch.items():\n",
    "        print(f\"{key:20s}: {value[:5]}\")\n",
    "    print()\n",
    "    print(f\"{'label':20s}: {label[:5]}\")"
   ]
  },
  {
   "source": [
    "### multiple files"
   ],
   "cell_type": "markdown",
   "metadata": {}
  },
  {
   "cell_type": "code",
   "execution_count": 27,
   "metadata": {},
   "outputs": [],
   "source": [
    "fontz_zip = tf.keras.utils.get_file(\n",
    "    'fonts.zip',  \"https://archive.ics.uci.edu/ml/machine-learning-databases/00417/fonts.zip\",\n",
    "    cache_dir='.', cache_subdir='fonts',\n",
    "    extract=True)"
   ]
  },
  {
   "cell_type": "code",
   "execution_count": 28,
   "metadata": {},
   "outputs": [
    {
     "output_type": "execute_result",
     "data": {
      "text/plain": [
       "['fonts\\\\AGENCY.csv',\n",
       " 'fonts\\\\ARIAL.csv',\n",
       " 'fonts\\\\BAITI.csv',\n",
       " 'fonts\\\\BANKGOTHIC.csv',\n",
       " 'fonts\\\\BASKERVILLE.csv',\n",
       " 'fonts\\\\BAUHAUS.csv',\n",
       " 'fonts\\\\BELL.csv',\n",
       " 'fonts\\\\BERLIN.csv',\n",
       " 'fonts\\\\BERNARD.csv',\n",
       " 'fonts\\\\BITSTREAMVERA.csv']"
      ]
     },
     "metadata": {},
     "execution_count": 28
    }
   ],
   "source": [
    "# this dataset contains multiple csv files\n",
    "font_csvs = sorted(str(p) for p in pathlib.Path('fonts').glob(\"*.csv\"))\n",
    "font_csvs[:10]"
   ]
  },
  {
   "cell_type": "code",
   "execution_count": 29,
   "metadata": {},
   "outputs": [
    {
     "output_type": "execute_result",
     "data": {
      "text/plain": [
       "153"
      ]
     },
     "metadata": {},
     "execution_count": 29
    }
   ],
   "source": [
    "len(font_csvs)"
   ]
  },
  {
   "cell_type": "code",
   "execution_count": 30,
   "metadata": {},
   "outputs": [],
   "source": [
    "# read all csv into one dataset, order of files is shuffled in each iteration\n",
    "fonts_ds = tf.data.experimental.make_csv_dataset(\n",
    "    file_pattern = \"fonts/*.csv\", # read all csv\n",
    "    batch_size=10,\n",
    "    num_epochs=1,\n",
    "    num_parallel_reads=20, # read 20 files in parallel\n",
    "    shuffle_buffer_size=10000\n",
    ")"
   ]
  },
  {
   "cell_type": "code",
   "execution_count": 31,
   "metadata": {},
   "outputs": [
    {
     "output_type": "stream",
     "name": "stdout",
     "text": [
      "font                : [b'PLAYBILL' b'MODERN' b'MODERN' b'CITYBLUEPRINT' b'SWIS721' b'SCRIPTB'\n",
      " b'PERPETUA' b'TAHOMA' b'COPPERPLATE' b'ROCKWELL']\n",
      "fontVariant         : [b'PLAYBILL' b'MODERN NO. 20' b'MODERN NO. 20' b'CITYBLUEPRINT'\n",
      " b'SWIS721 LTEX BT' b'SCRIPT MT BOLD' b'PERPETUA TITLING MT' b'TAHOMA'\n",
      " b'COPPERPLATE GOTHIC LIGHT' b'ROCKWELL EXTRA BOLD']\n",
      "m_label             : [  210   176   173   235   223   231   219 65155   120    46]\n",
      "strength            : [0.4 0.4 0.4 0.4 0.4 0.4 0.4 0.4 0.4 0.4]\n",
      "italic              : [1 0 0 0 0 0 1 0 1 0]\n",
      "orientation         : [0. 0. 0. 0. 0. 0. 0. 0. 0. 0.]\n",
      "m_top               : [20 20 59 48 36 56 21 21 41 71]\n",
      "m_left              : [25 21 21 21 26 20 31 23 20 25]\n",
      "originalH           : [55 10  4 43 49 43 64 66 37 12]\n",
      "originalW           : [26 10 14 25 33 25 56 11 47 16]\n",
      "h                   : [20 20 20 20 20 20 20 20 20 20]\n",
      "w                   : [20 20 20 20 20 20 20 20 20 20]\n",
      "r0c0                : [  1   1 255   1   1   1   1   1   1 255]\n",
      "r0c1                : [  1   1 255   1   1   1   1   5   1 255]\n",
      "r0c2                : [  1   1 255   1   1   1   1  24   1 255]\n",
      "r0c3                : [  1   1 255   1  84   1   1  80   1 255]\n",
      "...\n",
      "[total: 412 features]\n"
     ]
    }
   ],
   "source": [
    "for features in fonts_ds.take(1):\n",
    "    for i, (name, value) in enumerate(features.items()):\n",
    "        if i>15:\n",
    "            break\n",
    "        print(f\"{name:20s}: {value}\")\n",
    "print('...')\n",
    "print(f\"[total: {len(features)} features]\")"
   ]
  },
  {
   "cell_type": "code",
   "execution_count": 32,
   "metadata": {},
   "outputs": [],
   "source": [
    "# the csv file has an image flattened as a row\n",
    "# pack each row's pixels into one image tensor\n",
    "\n",
    "def make_images(features):\n",
    "    image = [None] * 400 # image is 400 pixel\n",
    "    new_feats = {}\n",
    "\n",
    "    for name, value in features.items():\n",
    "        match = re.match('r(\\d+)c(\\d+)', name)  # only get the pixel columns\n",
    "        if match:\n",
    "            image[int(match.group(1)) * 20 + int(match.group(2))] = value\n",
    "        else:\n",
    "            new_feats[name] = value\n",
    "        \n",
    "    image = tf.stack(image, axis=0)\n",
    "    image = tf.reshape(image, [20, 20, -1])\n",
    "    new_feats['image'] = image\n",
    "\n",
    "    return new_feats"
   ]
  },
  {
   "cell_type": "code",
   "execution_count": 33,
   "metadata": {},
   "outputs": [
    {
     "output_type": "display_data",
     "data": {
      "text/plain": "<Figure size 720x720 with 9 Axes>",
      "image/svg+xml": "<?xml version=\"1.0\" encoding=\"utf-8\" standalone=\"no\"?>\r\n<!DOCTYPE svg PUBLIC \"-//W3C//DTD SVG 1.1//EN\"\r\n  \"http://www.w3.org/Graphics/SVG/1.1/DTD/svg11.dtd\">\r\n<!-- Created with matplotlib (https://matplotlib.org/) -->\r\n<svg height=\"355.678125pt\" version=\"1.1\" viewBox=\"0 0 346.658824 355.678125\" width=\"346.658824pt\" xmlns=\"http://www.w3.org/2000/svg\" xmlns:xlink=\"http://www.w3.org/1999/xlink\">\r\n <metadata>\r\n  <rdf:RDF xmlns:cc=\"http://creativecommons.org/ns#\" xmlns:dc=\"http://purl.org/dc/elements/1.1/\" xmlns:rdf=\"http://www.w3.org/1999/02/22-rdf-syntax-ns#\">\r\n   <cc:Work>\r\n    <dc:type rdf:resource=\"http://purl.org/dc/dcmitype/StillImage\"/>\r\n    <dc:date>2020-10-15T09:30:55.751245</dc:date>\r\n    <dc:format>image/svg+xml</dc:format>\r\n    <dc:creator>\r\n     <cc:Agent>\r\n      <dc:title>Matplotlib v3.3.1, https://matplotlib.org/</dc:title>\r\n     </cc:Agent>\r\n    </dc:creator>\r\n   </cc:Work>\r\n  </rdf:RDF>\r\n </metadata>\r\n <defs>\r\n  <style type=\"text/css\">*{stroke-linecap:butt;stroke-linejoin:round;}</style>\r\n </defs>\r\n <g id=\"figure_1\">\r\n  <g id=\"patch_1\">\r\n   <path d=\"M 0 355.678125 \r\nL 346.658824 355.678125 \r\nL 346.658824 0 \r\nL 0 0 \r\nz\r\n\" style=\"fill:none;\"/>\r\n  </g>\r\n  <g id=\"axes_1\">\r\n   <g clip-path=\"url(#pa52940fec6)\">\r\n    <image height=\"96\" id=\"image98b6b4c581\" transform=\"scale(1 -1)translate(0 -96)\" width=\"96\" x=\"7.2\" xlink:href=\"data:image/png;base64,\r\niVBORw0KGgoAAAANSUhEUgAAAKAAAACgCAYAAACLz2ctAAAFG0lEQVR4nO3dX2iVdRzH8Z15Mj3OM1kHnUrgph2KWM5GpKOLEasxMm+0LkJUkIx2I60GFl0MDIIgK5JWetNfIWUo4ZBJiAm6hawchUZsrthsBqdaNs5FLtd92Ofh8Tm/fTr0ft1+H5/nN3nzu/hxznlSZ8fqZiuE9QvmqTHMJmam5fyJPS/IefbQYCmXE1ul9en43yNAWBEgrAgQVgQIKwKEFQHCKtX4zOvyHHCou2eu1oJbsGF4s5xn20fnaCW3hh0QVgQIKwKEFQHCigBhRYCwIkBYpZeM/CkvODxdLedPVv1eyvUgpj++WCbn2QrOAYF/RYCwIkBYESCsCBBWBAgrAoRVqjW1RX4e8NqJ1fIGA2t7Ey1g36/1ct5zvC3R/UPL3vuLnA81HQ76/LYVjUHvHxo7IKwIEFYECCsChBUBwooAYUWAsEpHXXD7/hp9wcFkCzgyvk7O6/cMJHtAYIVdG/QFTcnuX9e/U87zFUPJHmDGDggrAoQVAcKKAGFFgLAiQFgRIKyizwH7zgddwHv3fCLnHZt3y/mi3i9LuZzYdnceCXr/moH5Qe/vxg4IKwKEFQHCigBhRYCwIkBYESCsIs8BozTs65DzbzrfkfP75i+Q8+kV+n3Fi+Q0ucpMRs63ZQuJ7v/IpcflfOnHw3J+I9HT/dgBYUWAsCJAWBEgrAgQVgQIKwKEVeJzwMXj+iRq9Pq0nK++rUrOL7yozxHb3m6U86SmepcHvf/I5Vo5zxfHgz7fjR0QVgQIKwKEFQHCigBhRYCwIkBYJT8H/HRQzrfu2C7nSd8zMvOw/gG+9Cn9+3np+lVyvi53Je6SYsk/HfZ711Gi/v7CQ/octGpCv2866v+fHRBWBAgrAoQVAcKKAGFFgLAiQFglPgeMUjy5TF+wNuH9u6bkPHtK//urrfqcq2/lsXgL+oeN37dHXDGZ6P5Jjb2mP495sblHzl8p3C3nZ7fdL+fsgLAiQFgRIKwIEFYECCsChBUBwir4OWDtG+f0BV2hV6Atf+qHoPefPLRKznOBzwGvPtcs5xeb9feuo7yc+07ON75ZJ+fsgLAiQFgRIKwIEFYECCsChBUBwir4OWCUus92yfnYpgNy/mr+qJx3P7ZTzvvzB+U8SseV9XJe+7k+55tJ9PRomUd/DvwE7Xj+hJyzA8KKAGFFgLAiQFgRIKwIEFYECCv7OWDNV/p9wBWb9LhloX5PSddbH8VcUTxfF1bKefbyaNDnlzt2QFgRIKwIEFYECCsChBUBwooAYZVqTW2ZtS4grY8ii313yvmZBv15wNDa1+jv3d4oFudoJTdXmcnI+f5LJ+U86n3Ov/2l/77Wvc/LOTsgrAgQVgQIKwKEFQHCigBhRYCwsn8ecHZGfzN2YmSpvkFDCRdzEx9ey8m5+5wvStT6tnfqc7oHX9LvMz46+ICc33VgQM7ZAWFFgLAiQFgRIKwIEFYECCsChJX984BJ9f90Iej9m7qflfNcxDkXNHZAWBEgrAgQVgQIKwKEFQHCigBhZf88oNu7U/r3/e749r/9eb9yxw4IKwKEFQHCigBhRYCwIkBYESCsyv4ccM3pHXI+0vK+nH/wo37fb/bccMwVIQ52QFgRIKwIEFYECCsChBUBwooAYVX254DVpxfqC1r0ePFe/R4MhMUOCCsChBUBwooAYUWAsCJAWBEgrMr+9wHnLamW88pj+n2511smS7kcxMQOCCsChBUBwooAYUWAsCJAWBEgrP4GrNvEBRD4La0AAAAASUVORK5CYII=\" y=\"-22.247537\"/>\r\n   </g>\r\n   <g id=\"text_1\">\r\n    <!-- ᣝ -->\r\n    <g transform=\"translate(51.563768 16.318125)scale(0.12 -0.12)\">\r\n     <defs>\r\n      <path d=\"M 4.984375 -17.671875 \r\nL 4.984375 70.515625 \r\nL 54.984375 70.515625 \r\nL 54.984375 -17.671875 \r\nz\r\nM 10.59375 -12.109375 \r\nL 49.421875 -12.109375 \r\nL 49.421875 64.890625 \r\nL 10.59375 64.890625 \r\nz\r\n\" id=\"DejaVuSans-6365\"/>\r\n     </defs>\r\n     <use xlink:href=\"#DejaVuSans-6365\"/>\r\n    </g>\r\n   </g>\r\n  </g>\r\n  <g id=\"axes_2\">\r\n   <g clip-path=\"url(#p9817bedbc8)\">\r\n    <image height=\"96\" id=\"image82974fced7\" transform=\"scale(1 -1)translate(0 -96)\" width=\"96\" x=\"125.364706\" xlink:href=\"data:image/png;base64,\r\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\" y=\"-22.247537\"/>\r\n   </g>\r\n   <g id=\"text_2\">\r\n    <!-- ¢ -->\r\n    <g transform=\"translate(169.511912 16.318125)scale(0.12 -0.12)\">\r\n     <defs>\r\n      <path d=\"M 33.109375 6.390625 \r\nL 33.109375 48.1875 \r\nQ 25.921875 47.3125 21.921875 41.796875 \r\nQ 17.921875 36.28125 17.921875 27.296875 \r\nQ 17.921875 18.265625 21.921875 12.75 \r\nQ 25.921875 7.234375 33.109375 6.390625 \r\nz\r\nM 51.703125 52.59375 \r\nL 51.703125 44.1875 \r\nQ 48.09375 46.1875 44.765625 47.21875 \r\nQ 41.453125 48.25 38.140625 48.390625 \r\nL 38.09375 6.203125 \r\nQ 41.5 6.453125 44.84375 7.46875 \r\nQ 48.1875 8.5 51.703125 10.40625 \r\nL 51.703125 2.09375 \r\nQ 48.53125 0.640625 45.1875 -0.21875 \r\nQ 41.84375 -1.078125 38.09375 -1.421875 \r\nL 38.09375 -15.28125 \r\nL 33.109375 -15.28125 \r\nL 33.109375 -1.21875 \r\nQ 21.34375 -0.25 14.875 7.25 \r\nQ 8.40625 14.75 8.40625 27.296875 \r\nQ 8.40625 39.890625 14.875 47.359375 \r\nQ 21.34375 54.828125 33.109375 55.90625 \r\nL 33.109375 69.921875 \r\nL 38.09375 69.921875 \r\nL 38.140625 55.90625 \r\nQ 41.703125 55.71875 45.046875 54.90625 \r\nQ 48.390625 54.109375 51.703125 52.59375 \r\nz\r\n\" id=\"DejaVuSans-162\"/>\r\n     </defs>\r\n     <use xlink:href=\"#DejaVuSans-162\"/>\r\n    </g>\r\n   </g>\r\n  </g>\r\n  <g id=\"axes_3\">\r\n   <g clip-path=\"url(#p282da5e9b5)\">\r\n    <image height=\"96\" id=\"imaged9450a3a47\" transform=\"scale(1 -1)translate(0 -96)\" width=\"96\" x=\"243.529412\" xlink:href=\"data:image/png;base64,\r\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\" y=\"-22.247537\"/>\r\n   </g>\r\n   <g id=\"text_3\">\r\n    <!-- g -->\r\n    <g transform=\"translate(287.685055 16.318125)scale(0.12 -0.12)\">\r\n     <defs>\r\n      <path d=\"M 45.40625 27.984375 \r\nQ 45.40625 37.75 41.375 43.109375 \r\nQ 37.359375 48.484375 30.078125 48.484375 \r\nQ 22.859375 48.484375 18.828125 43.109375 \r\nQ 14.796875 37.75 14.796875 27.984375 \r\nQ 14.796875 18.265625 18.828125 12.890625 \r\nQ 22.859375 7.515625 30.078125 7.515625 \r\nQ 37.359375 7.515625 41.375 12.890625 \r\nQ 45.40625 18.265625 45.40625 27.984375 \r\nz\r\nM 54.390625 6.78125 \r\nQ 54.390625 -7.171875 48.1875 -13.984375 \r\nQ 42 -20.796875 29.203125 -20.796875 \r\nQ 24.46875 -20.796875 20.265625 -20.09375 \r\nQ 16.0625 -19.390625 12.109375 -17.921875 \r\nL 12.109375 -9.1875 \r\nQ 16.0625 -11.328125 19.921875 -12.34375 \r\nQ 23.78125 -13.375 27.78125 -13.375 \r\nQ 36.625 -13.375 41.015625 -8.765625 \r\nQ 45.40625 -4.15625 45.40625 5.171875 \r\nL 45.40625 9.625 \r\nQ 42.625 4.78125 38.28125 2.390625 \r\nQ 33.9375 0 27.875 0 \r\nQ 17.828125 0 11.671875 7.65625 \r\nQ 5.515625 15.328125 5.515625 27.984375 \r\nQ 5.515625 40.671875 11.671875 48.328125 \r\nQ 17.828125 56 27.875 56 \r\nQ 33.9375 56 38.28125 53.609375 \r\nQ 42.625 51.21875 45.40625 46.390625 \r\nL 45.40625 54.6875 \r\nL 54.390625 54.6875 \r\nz\r\n\" id=\"DejaVuSans-103\"/>\r\n     </defs>\r\n     <use xlink:href=\"#DejaVuSans-103\"/>\r\n    </g>\r\n   </g>\r\n  </g>\r\n  <g id=\"axes_4\">\r\n   <g clip-path=\"url(#pbd5609060d)\">\r\n    <image height=\"96\" id=\"image85127486a0\" transform=\"scale(1 -1)translate(0 -96)\" width=\"96\" x=\"7.2\" xlink:href=\"data:image/png;base64,\r\niVBORw0KGgoAAAANSUhEUgAAAKAAAACgCAYAAACLz2ctAAAE9ElEQVR4nO3db2jUdQDH8d31g26wcGAt2gp2Wt1QezAU0qQw54NBI4NkUFBDBkZnCT26QYREPfAeBZILlBALDIIgHwRDOLJiKeTYIJMd/jkjNnAhbCTsHly3nirJ58uv3373YfZ+Pf1cd1+vt78HP36HmT2ZfSttRtktfXJffKZT7vl3qnI/nf8+7pFa6sM/N8l94sgLcl935bbcVy5ein2mVsq6D4D/NwKEFQHCigBhRYCwIkBYESCsMmnfB2wMbJV74chvch/vubCax/mX/JkDcm+fjxK9/3J3Q+61vccTvX/oPuKp6R1yz3+p3z+qTMU9UixcAWFFgLAiQFgRIKwIEFYECCsChFXwPmA2l5NvsDDSL/ejpWNy35lL9ndgst6U+6HyQbl3nZqWe7Nej32mO4W+v7a+DXK+/uo6uVdHP4t7pLuEvr/3331L7g9+90uiz+cKCCsChBUBwooAYUWAsCJAWBEgrIIPuzW26d/tTh0O3YdK1nhxbrvcq2Ob5f5w5bzc9V2w5IL3EWcuy/nx9fp5yuKg/n5Cz1OG7sP+8Zp+nrFvplvujbl5uXMFhBUBwooAYUWAsCJAWBEgrAgQVtEDj3bJF2z8ZLZFR7m3yoR+3rA3cJ9vrQv9LrcyoX/32zaa7HfV13aflHvxW30f8saQ7osrIKwIEFYECCsChBUBwooAYUWAsIoy7fp3q+M9Z1M9wNe39e9eH7qR6seveaHvJ/T9DncsJfr80POGL7W/LHeugLAiQFgRIKwIEFYECCsChBUBwiq6Wu60HqB0bljuT39+fz/vl9T6wPdTelZ/v8NDJ1bzOLFxBYQVAcKKAGFFgLAiQFgRIKwIEFZR9fkv3GfAfWzk7A9y5woIKwKEFQHCigBhRYCwIkBYESCsgv9OCJBE6HfHXAFhRYCwIkBYESCsCBBWBAgrAoQVAcKKAGFFgLAiQFgRIKwIEFYECCsChBUBwooAYUWAsCJAWBEgrAgQVgQIKwKEFQHCigBhRYCwIkBYESCsCBBWBAgrAoQVAcKKAGFFgLAiQFgRIKwIEFYECCsChFVU+OlN+QL+PWGkiSsgrAgQVgQIKwKEFQHCigBhRYCwip4sLepX/NySc+A/ujW6Q+7lXadbdJJ76/+4KHeugLAiQFgRIKwIEFYECCsChBUBwipaWa7LFxTntst9vOdCogPUhk7IvfDR23Lv/eB8os9f6/7q1ftwx1Kqnx/q47FvrsqdKyCsCBBWBAgrAoQVAcKKAGFFgLCK/r65IF/w+yvdct9Y3i/3a7tPxj7UnQYGp+VePbdV7lFlKtHnuzUG9J8v9P2k7cp7fXLP3pzR+yqeBYiNAGFFgLAiQFgRIKwIEFYECKso9ILG3Lzcn/iqR+6TzzXlvjOn/w6Enjcs7OqX+4Zbm+TeNntdzs26fl4yJJvLyX1hRJ//aOmY3EPfX8hkXf//OVQ+KPeui/o+pH53roAwI0BYESCsCBBWBAgrAoQVAcIqsyezbyXNDwg9z1Z7Q//3I/36d7+HH7kc90h3yZ85IPf2+eCtUmm5uyH32t7jid4/JPS73erYZrmn/TwlV0BYESCsCBBWBAgrAoQVAcKKAGGV+n3ApDLbtsh96akOuQ+O/Sj3pPcR0/Z67UW51z4tyL3z10W5Ny/Nxj3SquIKCCsChBUBwooAYUWAsCJAWBEgrP4BiQLUnP7c8goAAAAASUVORK5CYII=\" y=\"-137.362831\"/>\r\n   </g>\r\n   <g id=\"text_4\">\r\n    <!-- ₀ -->\r\n    <g transform=\"translate(52.759081 131.433419)scale(0.12 -0.12)\">\r\n     <defs>\r\n      <path d=\"M 27.828125 33.046875 \r\nQ 25.390625 37.25 20.453125 37.25 \r\nQ 15.53125 37.25 13.09375 33.046875 \r\nQ 10.59375 28.84375 10.59375 20.453125 \r\nQ 10.59375 12 13.09375 7.8125 \r\nQ 15.53125 3.609375 20.453125 3.609375 \r\nQ 25.390625 3.609375 27.828125 7.8125 \r\nQ 30.328125 12 30.328125 20.453125 \r\nQ 30.328125 28.84375 27.828125 33.046875 \r\nz\r\nM 20.453125 41.59375 \r\nQ 28.328125 41.59375 32.46875 36.171875 \r\nQ 36.625 30.75 36.625 20.453125 \r\nQ 36.625 10.09375 32.46875 4.671875 \r\nQ 28.328125 -0.734375 20.453125 -0.734375 \r\nQ 12.546875 -0.734375 8.390625 4.671875 \r\nQ 4.25 10.09375 4.25 20.453125 \r\nQ 4.25 30.75 8.390625 36.171875 \r\nQ 12.546875 41.59375 20.453125 41.59375 \r\nz\r\n\" id=\"DejaVuSans-8320\"/>\r\n     </defs>\r\n     <use xlink:href=\"#DejaVuSans-8320\"/>\r\n    </g>\r\n   </g>\r\n  </g>\r\n  <g id=\"axes_5\">\r\n   <g clip-path=\"url(#p0be6a9c22f)\">\r\n    <image height=\"96\" id=\"image18c99b3350\" transform=\"scale(1 -1)translate(0 -96)\" width=\"96\" x=\"125.364706\" xlink:href=\"data:image/png;base64,\r\niVBORw0KGgoAAAANSUhEUgAAAKAAAACgCAYAAACLz2ctAAAEvElEQVR4nO3df2jUdRzH8W5dV45BWJHalqHNuXFSWpArC/r5x7T+qQyR/eUfZUZS/xQG1UTEoBiEQUp/RP4TVEhRgn9E+E86DGoFObbJMhidNtkaaHO679a/g+R9HN+7e+7O5+Pfl9w+fzz9/PHlfmSSQuvcdXWsa+PWcJ/tP1XRvz+3YW24v3XoULg/umi2jKepvhXfvBjuDVU6h3RVBiiUAQplgEIZoFAGKJQBCpWlD1Drsi3N4f5vz0S41/pzvi1/PB7uHb3nw90bUCgDFMoAhTJAoQxQKAMUygCF8jlgSqe3Lw/3wfzHVTpJZZycvhLuhX2t4X7T8Mlw9wYUygCFMkChDFAoAxTKAIUyQKF8DlhEZl0+3Ae31fZzvmK6P98Z7iu+O5Hq9b0BhTJAoQxQKAMUygCFMkChDFCoa/45YHbZ0nBvOThSpZMwVn65Pdzbdv8c7mm/XNIbUCgDFMoAhTJAoQxQKAMUygCFqvvngNO3N4Z7rncy3A+2pHu/G+2l0QfDveO9M+E+Mz1dxtP8nzegUAYolAEKZYBCGaBQBiiUAQpV988BR7ddDveh9iNVOglj6J014Z4r/FSlk1ydN6BQBiiUAQplgEIZoFAGKJQBCpVJCq1pP9qpBez3y1Ph/vQPr4Z7x5t/hnsyNlbymebzBhTKAIUyQKEMUCgDFMoAhTJAoer+OeDDvz0b7uMX4s8N99zzbbi/0BR/rrjWPfDL5nBfvGk41et7AwplgEIZoFAGKJQBCmWAQhmgUHX/HLBr49Zwn+0/ler1hz/sDPeRzQdSvT5tdOZCuHftfyPc73j/eLh7AwplgEIZoFAGKJQBCmWAQhmgUHX//YCVtqSvyD+I30634LVkm8L9Yj7d74h4AwplgEIZoFAGKJQBCmWAQhmgUD4HTKl5x2n6CDXNG1AoAxTKAIUyQKEMUCgDFMoAhar754Bnd8+G++rbbgn3t5vj3xPO5xaVfKZa8tTAM+HevjP+fsCkyOt7AwplgEIZoFAGKJQBCmWAQhmgUHX//YDXuqErF8N904+vhPuq1/8K9+Tc3yWfaT5vQKEMUCgDFMoAhTJAoQxQKAMUqu7fD0g7NhX/H++/tDzcD4+uC/fCr0vDve1AIdxXjvSHe7H386XlDSiUAQplgEIZoFAGKJQBCmWAQmWeeGiP7wesoBvOnAv3mcLZKp1kYfIGFMoAhTJAoQxQKAMUygCFMkChMk9mnl/QzwEbGhvDffy5e8N9clU5T1N+uX8y4b6s93iVTsLwBhTKAIUyQKEMUCgDFMoAhTJAofDPBU92d4b7ll1Hw/21xbX9nOx8En9/34b1L4f73T1T4Z4MxL/jQfMGFMoAhTJAoQxQKAMUygCFMkChUr8f8Ppb49/bHdjTGu5fdX0U7vffmCv5TPMlc/HvBX8wvjrcPxtcH+4nOj8J95sbKvt7wu+O5cP9+72PhHvTF33lPE7JvAGFMkChDFAoAxTKAIUyQKEMUKiizwGTx+4LX2Bm13i4H1vzdcmHKqe1+3aE+5L96d5PmL3rznBPPo2fQx5tP5Lq7xfTdyn+pY/uw/HvBbftHQz3ZGKi5DPN5w0olAEKZYBCGaBQBiiUAQplgEL9B+vZxi6xAkiAAAAAAElFTkSuQmCC\" y=\"-137.362831\"/>\r\n   </g>\r\n   <g id=\"text_5\">\r\n    <!-- Ř -->\r\n    <g transform=\"translate(169.160349 131.433419)scale(0.12 -0.12)\">\r\n     <defs>\r\n      <path d=\"M 44.390625 34.1875 \r\nQ 47.5625 33.109375 50.5625 29.59375 \r\nQ 53.5625 26.078125 56.59375 19.921875 \r\nL 66.609375 0 \r\nL 56 0 \r\nL 46.6875 18.703125 \r\nQ 43.0625 26.03125 39.671875 28.421875 \r\nQ 36.28125 30.8125 30.421875 30.8125 \r\nL 19.671875 30.8125 \r\nL 19.671875 0 \r\nL 9.8125 0 \r\nL 9.8125 72.90625 \r\nL 32.078125 72.90625 \r\nQ 44.578125 72.90625 50.734375 67.671875 \r\nQ 56.890625 62.453125 56.890625 51.90625 \r\nQ 56.890625 45.015625 53.6875 40.46875 \r\nQ 50.484375 35.9375 44.390625 34.1875 \r\nz\r\nM 19.671875 64.796875 \r\nL 19.671875 38.921875 \r\nL 32.078125 38.921875 \r\nQ 39.203125 38.921875 42.84375 42.21875 \r\nQ 46.484375 45.515625 46.484375 51.90625 \r\nQ 46.484375 58.296875 42.84375 61.546875 \r\nQ 39.203125 64.796875 32.078125 64.796875 \r\nz\r\nM 26.515625 79.15625 \r\nL 16.21875 92.140625 \r\nL 23 92.140625 \r\nL 31.109375 83.453125 \r\nL 39.203125 92.140625 \r\nL 46 92.140625 \r\nL 35.6875 79.15625 \r\nz\r\n\" id=\"DejaVuSans-344\"/>\r\n     </defs>\r\n     <use xlink:href=\"#DejaVuSans-344\"/>\r\n    </g>\r\n   </g>\r\n  </g>\r\n  <g id=\"axes_6\">\r\n   <g clip-path=\"url(#p3d8ee675ab)\">\r\n    <image height=\"96\" id=\"imagefab19c1398\" transform=\"scale(1 -1)translate(0 -96)\" width=\"96\" x=\"243.529412\" xlink:href=\"data:image/png;base64,\r\niVBORw0KGgoAAAANSUhEUgAAAKAAAACgCAYAAACLz2ctAAAFmUlEQVR4nO3d62vVdQDH8Z2z45pzFlQb6ZZWbs1rFxFd3rA0RbJ1WxoRZY6xikQUyh4EYomIJemodAYyNIwakvooH8io5iW70HSVpWwpLqUpy6nzsp2z/oDg82N8d/i4fL+eftb5HePN98GPc84vNitW3pNhlBhyh9wvTBom97+fvyz32gm1ci/NzpR7qBVtY+S+rWGq3Es+uSD31M+/9vo9XU/i7jeAGxsBwooAYUWAsCJAWBEgrAgQVrF03wdsf+khuc9e2iD3VflH+vLt9Dt/dF2S+7z9r8m9aPEpuSfPnuv1e+pLnICwIkBYESCsCBBWBAgrAoQVAcIq+D7giZWT5X608uOQlw+297L+vN/qlsfSev1dI7+Qe248O63X//HqNbkvXfq63AfuPNSXb+c/OAFhRYCwIkBYESCsCBBWBAgrAoRV5H3A4+tL5QscffYjuQ+IhX3vdkbTk/oPPsiTc87B43JPtrf38h31TtT3nlsW3SP3TRX6Pur0wNuIq8+WyH3f3BFy7279K+j6nICwIkBYESCsCBBWBAgrAoQVAcIqNmfkW/I+4Lo9W+ULjMrKCXoDRfUvy7244je5p65cCbr+9S4x/E65T9jdLPeVeb8EXb/k2xflfteCw0GvzwkIKwKEFQHCigBhRYCwIkBYESCsYsO3rpb3AZsf3RJ0gfnNM+V+fqr39+n6u8tPTJT7hxuq5X5fVtgHCset179POHTtfrlzAsKKAGFFgLAiQFgRIKwIEFYECKtY04mh8j5g1Of9unqScp+9qEruWXt+kDvCNK/Vz2k59sLGoNev7ciXe92MB+XOCQgrAoQVAcKKAGFFgLAiQFgRIKxiydNFQc8JuZjS38t9plD/viDSK1FYIPeq+nq5lw3qDLr+5GWvyJ0TEFYECCsChBUBwooAYUWAsCJAWCXcbwDp1X2qVe7LP10o97KqsOc9n5mrn1fMCQgrAoQVAcKKAGFFgLAiQFgRIKy4D3iDy2vslnvU976jngddWtQid05AWBEgrAgQVgQIKwKEFQHCigBhFVuwv1J+L3j73fp7o1HGVuvnSBSs0c+RgNeOUwflnhsPe84IJyCsCBBWBAgrAoQVAcKKAGFFgLBKHGgq0n8ReB/w2v2Xgv57/L9xAsKKAGFFgLAiQFgRIKwIEFYECKtEyaaI50A8HnaB9yfUyb2m8GG5R/2+Hfo3TkBYESCsCBBWBAgrAoQVAcKKAGGV6Gk8Kv9g+pGn5P7NuC/lHvW82SVv6+fZlixuk3tPl34OBbTMvDy5x9N8RnECwooAYUWAsCJAWBEgrAgQVgQIq0RGSj8H4qZ3b5H7ye0X5T4skSv3lrLNcp+yt0ruuXXfyR3ayYpiuefEs4Jef8rhp+XOCQgrAoQVAcKKAGFFgLAiQFgRIKxis2Ll8jkhUY5VT5J7c3lNyMtndKb05/2mvbNE7rdvPhB0/f4u6vN+C/cdkvv83PNB1y/e+qrcOQFhRYCwIkBYESCsCBBWBAgrAoRV8H3AjHimnMd+r19+3ZCfgi7fntTfOx7/lb5POGrtObn3tJ6Re6oz4vcVA0Xdx/tn5gi5j1vWKPeawrD7pDsu3iz3LY9MkzsnIKwIEFYECCsChBUBwooAYUWAsAq/Dxgh87Zb5X71c/294b2jd/fl2+m1FW1j5N7Qpu/DhdpY/Jnc7x0wKK3XP92tv/c9b9Ubco/6PCYnIKwIEFYECCsChBUBwooAYUWAsEr7fcAo8exsuf+5fLzcdy16T+7pvk/W30V9nm/Dm8/JfeBO/b3iKJyAsCJAWBEgrAgQVgQIKwKEFQHCyn4fMFT8gdFy/71ysNwHF3TIvXGi/jxeutV25Mt9zeE5ch/4tf73D9nWJPdkh/7/E4oTEFYECCsChBUBwooAYUWAsCJAWP0L8tgEtfNJKwYAAAAASUVORK5CYII=\" y=\"-137.362831\"/>\r\n   </g>\r\n   <g id=\"text_6\">\r\n    <!-- Ο -->\r\n    <g transform=\"translate(286.770993 131.433419)scale(0.12 -0.12)\">\r\n     <defs>\r\n      <path d=\"M 39.40625 66.21875 \r\nQ 28.65625 66.21875 22.328125 58.203125 \r\nQ 16.015625 50.203125 16.015625 36.375 \r\nQ 16.015625 22.609375 22.328125 14.59375 \r\nQ 28.65625 6.59375 39.40625 6.59375 \r\nQ 50.140625 6.59375 56.421875 14.59375 \r\nQ 62.703125 22.609375 62.703125 36.375 \r\nQ 62.703125 50.203125 56.421875 58.203125 \r\nQ 50.140625 66.21875 39.40625 66.21875 \r\nz\r\nM 39.40625 74.21875 \r\nQ 54.734375 74.21875 63.90625 63.9375 \r\nQ 73.09375 53.65625 73.09375 36.375 \r\nQ 73.09375 19.140625 63.90625 8.859375 \r\nQ 54.734375 -1.421875 39.40625 -1.421875 \r\nQ 24.03125 -1.421875 14.8125 8.828125 \r\nQ 5.609375 19.09375 5.609375 36.375 \r\nQ 5.609375 53.65625 14.8125 63.9375 \r\nQ 24.03125 74.21875 39.40625 74.21875 \r\nz\r\n\" id=\"DejaVuSans-927\"/>\r\n     </defs>\r\n     <use xlink:href=\"#DejaVuSans-927\"/>\r\n    </g>\r\n   </g>\r\n  </g>\r\n  <g id=\"axes_7\">\r\n   <g clip-path=\"url(#p933921acdc)\">\r\n    <image height=\"96\" id=\"imagee1e6a0044c\" transform=\"scale(1 -1)translate(0 -96)\" width=\"96\" x=\"7.2\" xlink:href=\"data:image/png;base64,\r\niVBORw0KGgoAAAANSUhEUgAAAKAAAACgCAYAAACLz2ctAAAFMUlEQVR4nO3dzYtVdQCH8fM2d5xXUAZJmBSzFtGQIlG0iBYZ2i7KFtHG2rlpEb1sIiJaRLs2LSIIalEb2xiJlKsKo4ImiswWSmXjpNOko44zc++5p//BR/gSPZ/9V8+Mj2fx49x7yn3lwa4AqqkpMi+6jQ20r7dsRvvB+UW0L++ZQ/vuu5/QvpqYQPuPTn+O9lQV/dv1v2eAijJARRmgogxQUQaoKANUVIP/hH6f7dsWzbu1dbSvxsfRvrx0De3ZT18Ui4d2o/2w+wztR0uWkHdARRmgogxQUQaoKANUlAEqygAVVdLnAf/rmh23ov3gtz9u0pXcmOML82i/1LJzzJmaPY/oHVBRBqgoA1SUASrKABVlgIoyQEXh5wHr6Wm0b1dW0L5s2I8wXFpG+5Vju9CeOtv/Eu1nmzG03/vaYbT3DqgoA1SUASrKABVlgIoyQEUZoKL454LHNrE9PAcs6hrNh6uraH9y9xG0p+bXR9B+Z8l+f1vf/RbtvQMqygAVZYCKMkBFGaCiDFBRBqgofA7Y/nUB7atN7Bzx2Jmv0f7UBjsHLAr2/YL9jn1D4J7RUbQ/sONetO8G7D0v3gEVZYCKMkBFGaCiDFBRBqgoA1QUfx6wYs+TLT6zF+2X2hNoP1Vlvx5xWAzR/uFTj6J9XbFzXMo7oKIMUFEGqCgDVJQBKsoAFWWAisLngFWPfS71+5ffRvsT19n3Ez40xp7Ho8/z0X3vEDvHHPZ6aN/1B2jvHVBRBqgoA1SUASrKABVlgIoyQEU19D0XGwP2PGBRsM/17u6x7xc822fnaE+8/gLaF/BxxK2rp9lff/06uwDIO6CiDFBRBqgoA1SUASrKABVlgIoq2/O3o5OopfYauoCZegLtqfn1dbR/aed9N+lKbkw1NYX2wytX4AWwc2DvgIoyQEUZoKIMUFEGqCgDVJQBKqo5N7iK/oDZZhLt6TkitWeUnUPW0+xzye1V9vPTczz6nhbKO6CiDFBRBqgoA1SUASrKABVlgIpqHvvxafQH1BV7z8Wncx+g/UjJ/g/907L3BS8+dRfa1+xxxGLLe+xz1V3L/v0o74CKMkBFGaCiDFBRBqgoA1SUASqqPDD7LPpc8ODPBXQBR86xc6zJij3P9s16H+1vazbQfhkewz2760G07wbsPR+Ud0BFGaCiDFBRBqgoA1SUASrKABXVDP9ejl7AA288h/ZHX3wT7e9o2P/BtQ6+6KMo0frKJ9vRfvLAGbRvtt2C9t4BFWWAijJARRmgogxQUQaoKANUVDNcW4tewLYPf0H7y8+z91TM9sbQ/jz8fsUavjD4q7s/Rvv9xR607ybH0d47oKIMUFEGqCgDVJQBKsoAFWWAiir3bz2MDqLaixdv1rXckGqCvedjeI29p+P4wjzaU7/Dc8jt8D0vv/bZ7887oKIMUFEGqCgDVJQBKsoAFWWAimqKdfiiCqhsGrSn329Xb96M9vf/8DjaU0fn3kf71SH7fsOpkj3P6B1QUQaoKANUlAEqygAVZYCKMkBFNe3KSvQCqnH2uVJ6/d2du9B++pGf0Z6aWWDPQ57ts+cJd46w5wm9AyrKABVlgIoyQEUZoKIMUFEGqKhyX3kQPdBVjvTYFXTshbnlGPt+v7I3gvbDy+wckl7/hSfn0P6LV95C+/GK/ft7B1SUASrKABVlgIoyQEUZoKIMUFHsQ7lFUZQ1a3i4xj6XWo2yc6h2+RLalyPsV1jC65955yTaj78Kz3Eh74CKMkBFGaCiDFBRBqgoA1SUASrqX3WE/rLznuZkAAAAAElFTkSuQmCC\" y=\"-252.478125\"/>\r\n   </g>\r\n   <g id=\"text_7\">\r\n    <!-- &lt; -->\r\n    <g transform=\"translate(50.136893 246.548713)scale(0.12 -0.12)\">\r\n     <defs>\r\n      <path d=\"M 73.1875 49.21875 \r\nL 22.796875 31.296875 \r\nL 73.1875 13.484375 \r\nL 73.1875 4.59375 \r\nL 10.59375 27.296875 \r\nL 10.59375 35.40625 \r\nL 73.1875 58.109375 \r\nz\r\n\" id=\"DejaVuSans-60\"/>\r\n     </defs>\r\n     <use xlink:href=\"#DejaVuSans-60\"/>\r\n    </g>\r\n   </g>\r\n  </g>\r\n  <g id=\"axes_8\">\r\n   <g clip-path=\"url(#pe8a9f3490e)\">\r\n    <image height=\"96\" id=\"image521ded0ddf\" transform=\"scale(1 -1)translate(0 -96)\" width=\"96\" x=\"125.364706\" xlink:href=\"data:image/png;base64,\r\niVBORw0KGgoAAAANSUhEUgAAAKAAAACgCAYAAACLz2ctAAAB/UlEQVR4nO3YoW3DYBhF0SYqCAvpCEFFxRkgUjpCBuwI7RpFReVZocRxFrDM6ivF59AP+IGrH3gzXA/j0wM7v19m77fvn4WWTNu+vc7evz4/FlrS2NYDWDcBkhIgKQGSEiApAZISICkBkhIgKQGSEiApAZISICkBkhIgKQGSEiApAZISICkBkhIgKQGSEiApAZISICkBkhIgKQGSEiApAZISICkBkhIgKQGSEiApAZISICkBkhIgKQGSEiApAZISICkBkhIgKQGSEiApAZISICkBkhIgKQGSEiApAZISICkBkhIgKQGSEiApAZISICkBkhIgKQGSEiApAZISICkBkhIgKQGSEiApAZISICkBkhIgKQGSEiApAZISICkBkhIgKQGSEiApAZISICkBkhIgKQGSEiApAZISICkBkhIgKQGSEiApAZISICkBkhIgKQGSEiApAZISICkBkhIgKQGSEiApAZISICkBkhIgKQGSEiApAZISICkBkhIgKQGSEiApAZISICkBkhIgKQGSEiApAZISIKnnesB/+73sZ++703GhJdP+Xsb0+zUvICkBkhIgKQGSEiApAZISIKnNcD2s+0cUKS8gKQGSEiApAZISICkBkhIgKQGSEiApAZISICkBkhIgKQGSEiApAZISICkBkhIgKQGSEiApAZISIKk7oOMRJ5QI5wIAAAAASUVORK5CYII=\" y=\"-252.478125\"/>\r\n   </g>\r\n   <g id=\"text_8\">\r\n    <!-- ∏ -->\r\n    <g transform=\"translate(168.788162 246.548713)scale(0.12 -0.12)\">\r\n     <defs>\r\n      <path d=\"M 7.625 71.921875 \r\nL 68.015625 71.921875 \r\nL 68.015625 -19.1875 \r\nL 56.296875 -19.1875 \r\nL 56.296875 61.921875 \r\nL 19.28125 61.921875 \r\nL 19.28125 -19.1875 \r\nL 7.625 -19.1875 \r\nz\r\n\" id=\"DejaVuSans-8719\"/>\r\n     </defs>\r\n     <use xlink:href=\"#DejaVuSans-8719\"/>\r\n    </g>\r\n   </g>\r\n  </g>\r\n  <g id=\"axes_9\">\r\n   <g clip-path=\"url(#pa9f42681d5)\">\r\n    <image height=\"96\" id=\"imageb8af3fd36a\" transform=\"scale(1 -1)translate(0 -96)\" width=\"96\" x=\"243.529412\" xlink:href=\"data:image/png;base64,\r\niVBORw0KGgoAAAANSUhEUgAAAKAAAACgCAYAAACLz2ctAAADN0lEQVR4nO3dsWudVRjA4d4Q7CpxEKIVayMFpyAOVZyk0smpxa46CFVwcBJ3F6eCi526OTgIIi7BwSVoweWCo40WkRYFdSqItI3/wclwev3F5HnWl+/Ngfw4w+XLzeL84tL+iUNs5/ayPsL/2oXN7foIQ2v1ATjeBEhKgKQESEqApARISoCk1qcXPP3UcP7PkxuTP2E5+fzx9uDl7annH/n1z+H83q1fpva7AUkJkJQASQmQlABJCZCUAEktZt8HvHn13HC+d/nazHpiZz67MpxvvXdjar8bkJQASQmQlABJCZCUAEkJkNT6b+++NLXgiefuPKSjrMZHfzw7nH+698J/dJKjabYfNyApAZISICkBkhIgKQGSEiCpxf07W4f6+wFnrfp9tqNu1e97ugFJCZCUAEkJkJQASQmQlABJTX8/4Kqdvf721POnvr33kE5yPJ36+v5wfvbu3O/HDUhKgKQESEqApARISoCkBEjq0L8PeNj/3y1z3ICkBEhKgKQESEqApARISoCkBEhKgKQESEqApARISoCkBEhKgKQESEqApARISoCkBEhKgKQESEqApARISoCkBEhKgKQESEqApARISoCkBEhKgKQESEqApARISoCkBEhKgKQESEqApARISoCkBEhKgKQESEqApARISoCkBEhKgKQESEqApARISoCkBEhKgKQESEqApARISoCkBEhKgKTWT3/11tSC155fDucfb34/tZ85tz58sT7CkBuQlABJCZCUAEkJkJQASQmQ1OL84tL+zIKbV88N53uXr82sP3Fhc3vq+eNu5/ayPsKQG5CUAEkJkJQASQmQlABJCZDU+uyCZz7/ezjf/umdqf0Pvvhr6vmTXz46nG9c/25qP3PcgKQESEqApARISoCkBEhKgKSmPwdc210O54/vzu3f+WC8/yBnfr4ynG9MbWeWG5CUAEkJkJQASQmQlABJCZDU9OeAq/bq62/MLbg4Hr/yw925/Ufc1jdvDuenP5n6s3I3IC0BkhIgKQGSEiApAZISIKlD/zngQe8bHuji+PsL33/sx7n9R9z+7yeH87XdG1P73YCkBEhKgKQESEqApARISoCk/gWq+1lfb9iz1AAAAABJRU5ErkJggg==\" y=\"-252.478125\"/>\r\n   </g>\r\n   <g id=\"text_9\">\r\n    <!-- C -->\r\n    <g transform=\"translate(287.30443 246.548713)scale(0.12 -0.12)\">\r\n     <defs>\r\n      <path d=\"M 64.40625 67.28125 \r\nL 64.40625 56.890625 \r\nQ 59.421875 61.53125 53.78125 63.8125 \r\nQ 48.140625 66.109375 41.796875 66.109375 \r\nQ 29.296875 66.109375 22.65625 58.46875 \r\nQ 16.015625 50.828125 16.015625 36.375 \r\nQ 16.015625 21.96875 22.65625 14.328125 \r\nQ 29.296875 6.6875 41.796875 6.6875 \r\nQ 48.140625 6.6875 53.78125 8.984375 \r\nQ 59.421875 11.28125 64.40625 15.921875 \r\nL 64.40625 5.609375 \r\nQ 59.234375 2.09375 53.4375 0.328125 \r\nQ 47.65625 -1.421875 41.21875 -1.421875 \r\nQ 24.65625 -1.421875 15.125 8.703125 \r\nQ 5.609375 18.84375 5.609375 36.375 \r\nQ 5.609375 53.953125 15.125 64.078125 \r\nQ 24.65625 74.21875 41.21875 74.21875 \r\nQ 47.75 74.21875 53.53125 72.484375 \r\nQ 59.328125 70.75 64.40625 67.28125 \r\nz\r\n\" id=\"DejaVuSans-67\"/>\r\n     </defs>\r\n     <use xlink:href=\"#DejaVuSans-67\"/>\r\n    </g>\r\n   </g>\r\n  </g>\r\n </g>\r\n <defs>\r\n  <clipPath id=\"pa52940fec6\">\r\n   <rect height=\"95.929412\" width=\"95.929412\" x=\"7.2\" y=\"22.318125\"/>\r\n  </clipPath>\r\n  <clipPath id=\"p9817bedbc8\">\r\n   <rect height=\"95.929412\" width=\"95.929412\" x=\"125.364706\" y=\"22.318125\"/>\r\n  </clipPath>\r\n  <clipPath id=\"p282da5e9b5\">\r\n   <rect height=\"95.929412\" width=\"95.929412\" x=\"243.529412\" y=\"22.318125\"/>\r\n  </clipPath>\r\n  <clipPath id=\"pbd5609060d\">\r\n   <rect height=\"95.929412\" width=\"95.929412\" x=\"7.2\" y=\"137.433419\"/>\r\n  </clipPath>\r\n  <clipPath id=\"p0be6a9c22f\">\r\n   <rect height=\"95.929412\" width=\"95.929412\" x=\"125.364706\" y=\"137.433419\"/>\r\n  </clipPath>\r\n  <clipPath id=\"p3d8ee675ab\">\r\n   <rect height=\"95.929412\" width=\"95.929412\" x=\"243.529412\" y=\"137.433419\"/>\r\n  </clipPath>\r\n  <clipPath id=\"p933921acdc\">\r\n   <rect height=\"95.929412\" width=\"95.929412\" x=\"7.2\" y=\"252.548713\"/>\r\n  </clipPath>\r\n  <clipPath id=\"pe8a9f3490e\">\r\n   <rect height=\"95.929412\" width=\"95.929412\" x=\"125.364706\" y=\"252.548713\"/>\r\n  </clipPath>\r\n  <clipPath id=\"pa9f42681d5\">\r\n   <rect height=\"95.929412\" width=\"95.929412\" x=\"243.529412\" y=\"252.548713\"/>\r\n  </clipPath>\r\n </defs>\r\n</svg>\r\n",
      "image/png": "[encoded data removed]"
     },
     "metadata": {
      "needs_background": "light"
     }
    }
   ],
   "source": [
    "# convert row pixels to images\n",
    "fonts_image_ds = fonts_ds.map(make_images)\n",
    "\n",
    "for features in fonts_image_ds.take(1):\n",
    "    break\n",
    "\n",
    "plt.figure(figsize=(6, 6), dpi=120)\n",
    "for n in range(9):\n",
    "    plt.subplot(3, 3, n+1)\n",
    "    plt.imshow(features['image'][..., n])\n",
    "    plt.title(chr(features['m_label'][n]))\n",
    "    plt.axis('off')"
   ]
  },
  {
   "cell_type": "code",
   "execution_count": null,
   "metadata": {},
   "outputs": [],
   "source": []
  }
 ]
}